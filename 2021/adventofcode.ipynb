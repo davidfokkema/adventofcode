{
 "cells": [
  {
   "cell_type": "markdown",
   "metadata": {},
   "source": [
    "# Advent of Code 2021\n",
    "\n",
    "## Day 1\n",
    "\n",
    "### Part 1"
   ]
  },
  {
   "cell_type": "code",
   "execution_count": 2,
   "metadata": {},
   "outputs": [],
   "source": [
    "with open(\"inputs/day1.txt\") as f:\n",
    "    measurements = [int(l) for l in f.readlines()]\n"
   ]
  },
  {
   "cell_type": "code",
   "execution_count": 3,
   "metadata": {},
   "outputs": [
    {
     "data": {
      "text/plain": [
       "1233"
      ]
     },
     "execution_count": 3,
     "metadata": {},
     "output_type": "execute_result"
    }
   ],
   "source": [
    "sum([value > previous for previous, value in zip(measurements[:-1], measurements[1:])])\n"
   ]
  },
  {
   "cell_type": "markdown",
   "metadata": {},
   "source": [
    "### Part 2"
   ]
  },
  {
   "cell_type": "code",
   "execution_count": 4,
   "metadata": {},
   "outputs": [],
   "source": [
    "test = [199, 200, 208, 210, 200, 207, 240, 269, 260, 263]\n"
   ]
  },
  {
   "cell_type": "code",
   "execution_count": 5,
   "metadata": {},
   "outputs": [
    {
     "data": {
      "text/plain": [
       "[607, 618, 618, 617, 647, 716, 769, 792]"
      ]
     },
     "execution_count": 5,
     "metadata": {},
     "output_type": "execute_result"
    }
   ],
   "source": [
    "sums = [sum([a, b, c]) for a, b, c in zip(test, test[1:], test[2:])]\n",
    "sums\n"
   ]
  },
  {
   "cell_type": "code",
   "execution_count": 6,
   "metadata": {},
   "outputs": [
    {
     "data": {
      "text/plain": [
       "1275"
      ]
     },
     "execution_count": 6,
     "metadata": {},
     "output_type": "execute_result"
    }
   ],
   "source": [
    "sums = [\n",
    "    sum([a, b, c]) for a, b, c in zip(measurements, measurements[1:], measurements[2:])\n",
    "]\n",
    "sum([value > previous for previous, value in zip(sums[:-1], sums[1:])])\n"
   ]
  },
  {
   "cell_type": "markdown",
   "metadata": {},
   "source": [
    "## Day 2\n",
    "### Part 1"
   ]
  },
  {
   "cell_type": "code",
   "execution_count": 7,
   "metadata": {},
   "outputs": [],
   "source": [
    "test = [\n",
    "    \"forward 5\",\n",
    "    \"down 5\",\n",
    "    \"forward 8\",\n",
    "    \"up 3\",\n",
    "    \"down 8\",\n",
    "    \"forward 2\",\n",
    "]\n"
   ]
  },
  {
   "cell_type": "code",
   "execution_count": 12,
   "metadata": {},
   "outputs": [],
   "source": [
    "from dataclasses import dataclass\n",
    "\n",
    "\n",
    "@dataclass\n",
    "class Location:\n",
    "    position: int\n",
    "    depth: int\n"
   ]
  },
  {
   "cell_type": "code",
   "execution_count": 39,
   "metadata": {},
   "outputs": [],
   "source": [
    "def move(location, instruction):\n",
    "    match instruction.split():\n",
    "        case \"forward\", length:\n",
    "            location.position += int(length)\n",
    "        case \"down\", depth:\n",
    "            location.depth += int(depth)\n",
    "        case \"up\", depth:\n",
    "            location.depth -= int(depth)\n",
    "        case _:\n",
    "            print(f\"Error: unknown command -- {instruction}\")"
   ]
  },
  {
   "cell_type": "code",
   "execution_count": 40,
   "metadata": {},
   "outputs": [
    {
     "name": "stdout",
     "output_type": "stream",
     "text": [
      "forward 5\n",
      "down 5\n",
      "forward 8\n",
      "up 3\n",
      "down 8\n",
      "forward 2\n",
      "Location(position=15, depth=10)\n"
     ]
    }
   ],
   "source": [
    "location = Location(position=0, depth=0)\n",
    "for instruction in test:\n",
    "    print(instruction)\n",
    "    move(location, instruction)\n",
    "print(location)\n"
   ]
  },
  {
   "cell_type": "code",
   "execution_count": 43,
   "metadata": {},
   "outputs": [],
   "source": [
    "with open(\"inputs/day2.txt\") as f:\n",
    "    instructions = f.readlines()\n"
   ]
  },
  {
   "cell_type": "code",
   "execution_count": 44,
   "metadata": {},
   "outputs": [
    {
     "name": "stdout",
     "output_type": "stream",
     "text": [
      "Location(position=2083, depth=955)\n"
     ]
    }
   ],
   "source": [
    "location = Location(0, 0)\n",
    "for instruction in instructions:\n",
    "    move(location, instruction)\n",
    "print(location)\n"
   ]
  },
  {
   "cell_type": "code",
   "execution_count": 45,
   "metadata": {},
   "outputs": [
    {
     "name": "stdout",
     "output_type": "stream",
     "text": [
      "1989265\n"
     ]
    }
   ],
   "source": [
    "print(location.position * location.depth)\n"
   ]
  },
  {
   "cell_type": "markdown",
   "metadata": {},
   "source": [
    "### Part 2"
   ]
  },
  {
   "cell_type": "code",
   "execution_count": 46,
   "metadata": {},
   "outputs": [],
   "source": [
    "@dataclass\n",
    "class Navigation:\n",
    "    position: int=0\n",
    "    depth: int=0\n",
    "    aim: int=0\n",
    "\n",
    "    def move(self, instruction):\n",
    "        match instruction.split():\n",
    "            case \"forward\", distance:\n",
    "                self.position += int(distance)\n",
    "                self.depth += self.aim * int(distance)\n",
    "            case \"down\", amount:\n",
    "                self.aim += int(amount)\n",
    "            case \"up\", amount:\n",
    "                self.aim -= int(amount)\n",
    "            case _:\n",
    "                print(f\"Error: unknown command -- {instruction}\")"
   ]
  },
  {
   "cell_type": "code",
   "execution_count": 49,
   "metadata": {},
   "outputs": [
    {
     "name": "stdout",
     "output_type": "stream",
     "text": [
      "forward 5\n",
      "Navigation(position=5, depth=0, aim=0)\n",
      "down 5\n",
      "Navigation(position=5, depth=0, aim=5)\n",
      "forward 8\n",
      "Navigation(position=13, depth=40, aim=5)\n",
      "up 3\n",
      "Navigation(position=13, depth=40, aim=2)\n",
      "down 8\n",
      "Navigation(position=13, depth=40, aim=10)\n",
      "forward 2\n",
      "Navigation(position=15, depth=60, aim=10)\n"
     ]
    }
   ],
   "source": [
    "submarine = Navigation()\n",
    "for instruction in test:\n",
    "    print(instruction)\n",
    "    submarine.move(instruction)\n",
    "    print(submarine)\n"
   ]
  },
  {
   "cell_type": "code",
   "execution_count": 50,
   "metadata": {},
   "outputs": [
    {
     "name": "stdout",
     "output_type": "stream",
     "text": [
      "Navigation(position=2083, depth=1002964, aim=955)\n",
      "2089174012\n"
     ]
    }
   ],
   "source": [
    "submarine = Navigation()\n",
    "for instruction in instructions:\n",
    "    submarine.move(instruction)\n",
    "print(submarine)\n",
    "print(submarine.position * submarine.depth)\n"
   ]
  },
  {
   "cell_type": "code",
   "execution_count": null,
   "metadata": {},
   "outputs": [],
   "source": []
  }
 ],
 "metadata": {
  "interpreter": {
   "hash": "ca3d29f37a1a1c4f5e7a988c75b7db15a8dc84e630022593e41cd81ca2ea4c4a"
  },
  "kernelspec": {
   "display_name": "Python 3.8.8 64-bit ('base': conda)",
   "language": "python",
   "name": "python3"
  },
  "language_info": {
   "codemirror_mode": {
    "name": "ipython",
    "version": 3
   },
   "file_extension": ".py",
   "mimetype": "text/x-python",
   "name": "python",
   "nbconvert_exporter": "python",
   "pygments_lexer": "ipython3",
   "version": "3.10.1"
  },
  "orig_nbformat": 4
 },
 "nbformat": 4,
 "nbformat_minor": 2
}
