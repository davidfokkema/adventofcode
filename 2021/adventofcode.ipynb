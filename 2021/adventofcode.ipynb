{
 "cells": [
  {
   "cell_type": "markdown",
   "metadata": {},
   "source": [
    "# Advent of Code 2021\n",
    "\n",
    "## Day 1\n",
    "\n",
    "### Part 1"
   ]
  },
  {
   "cell_type": "code",
   "execution_count": 1,
   "metadata": {},
   "outputs": [],
   "source": [
    "with open(\"inputs/day1.txt\") as f:\n",
    "    measurements = [int(l) for l in f.readlines()]\n"
   ]
  },
  {
   "cell_type": "code",
   "execution_count": 2,
   "metadata": {},
   "outputs": [
    {
     "data": {
      "text/plain": [
       "1233"
      ]
     },
     "execution_count": 2,
     "metadata": {},
     "output_type": "execute_result"
    }
   ],
   "source": [
    "sum([value > previous for previous, value in zip(measurements[:-1], measurements[1:])])\n"
   ]
  },
  {
   "cell_type": "markdown",
   "metadata": {},
   "source": [
    "### Part 2"
   ]
  },
  {
   "cell_type": "code",
   "execution_count": 3,
   "metadata": {},
   "outputs": [],
   "source": [
    "test = [199, 200, 208, 210, 200, 207, 240, 269, 260, 263]\n"
   ]
  },
  {
   "cell_type": "code",
   "execution_count": 4,
   "metadata": {},
   "outputs": [
    {
     "data": {
      "text/plain": [
       "[607, 618, 618, 617, 647, 716, 769, 792]"
      ]
     },
     "execution_count": 4,
     "metadata": {},
     "output_type": "execute_result"
    }
   ],
   "source": [
    "sums = [sum([a, b, c]) for a, b, c in zip(test, test[1:], test[2:])]\n",
    "sums\n"
   ]
  },
  {
   "cell_type": "code",
   "execution_count": 5,
   "metadata": {},
   "outputs": [
    {
     "data": {
      "text/plain": [
       "1275"
      ]
     },
     "execution_count": 5,
     "metadata": {},
     "output_type": "execute_result"
    }
   ],
   "source": [
    "sums = [\n",
    "    sum([a, b, c]) for a, b, c in zip(measurements, measurements[1:], measurements[2:])\n",
    "]\n",
    "sum([value > previous for previous, value in zip(sums[:-1], sums[1:])])\n"
   ]
  },
  {
   "cell_type": "markdown",
   "metadata": {},
   "source": [
    "## Day 2\n",
    "### Part 1"
   ]
  },
  {
   "cell_type": "code",
   "execution_count": 6,
   "metadata": {},
   "outputs": [],
   "source": [
    "test = [\n",
    "    \"forward 5\",\n",
    "    \"down 5\",\n",
    "    \"forward 8\",\n",
    "    \"up 3\",\n",
    "    \"down 8\",\n",
    "    \"forward 2\",\n",
    "]\n"
   ]
  },
  {
   "cell_type": "code",
   "execution_count": 7,
   "metadata": {},
   "outputs": [],
   "source": [
    "from dataclasses import dataclass\n",
    "\n",
    "\n",
    "@dataclass\n",
    "class Location:\n",
    "    position: int\n",
    "    depth: int\n"
   ]
  },
  {
   "cell_type": "code",
   "execution_count": 8,
   "metadata": {},
   "outputs": [],
   "source": [
    "def move(location, instruction):\n",
    "    match instruction.split():\n",
    "        case \"forward\", length:\n",
    "            location.position += int(length)\n",
    "        case \"down\", depth:\n",
    "            location.depth += int(depth)\n",
    "        case \"up\", depth:\n",
    "            location.depth -= int(depth)\n",
    "        case _:\n",
    "            print(f\"Error: unknown command -- {instruction}\")"
   ]
  },
  {
   "cell_type": "code",
   "execution_count": 9,
   "metadata": {},
   "outputs": [
    {
     "name": "stdout",
     "output_type": "stream",
     "text": [
      "forward 5\n",
      "down 5\n",
      "forward 8\n",
      "up 3\n",
      "down 8\n",
      "forward 2\n",
      "Location(position=15, depth=10)\n"
     ]
    }
   ],
   "source": [
    "location = Location(position=0, depth=0)\n",
    "for instruction in test:\n",
    "    print(instruction)\n",
    "    move(location, instruction)\n",
    "print(location)\n"
   ]
  },
  {
   "cell_type": "code",
   "execution_count": 10,
   "metadata": {},
   "outputs": [],
   "source": [
    "with open(\"inputs/day2.txt\") as f:\n",
    "    instructions = f.readlines()\n"
   ]
  },
  {
   "cell_type": "code",
   "execution_count": 11,
   "metadata": {},
   "outputs": [
    {
     "name": "stdout",
     "output_type": "stream",
     "text": [
      "Location(position=2083, depth=955)\n"
     ]
    }
   ],
   "source": [
    "location = Location(0, 0)\n",
    "for instruction in instructions:\n",
    "    move(location, instruction)\n",
    "print(location)\n"
   ]
  },
  {
   "cell_type": "code",
   "execution_count": 12,
   "metadata": {},
   "outputs": [
    {
     "name": "stdout",
     "output_type": "stream",
     "text": [
      "1989265\n"
     ]
    }
   ],
   "source": [
    "print(location.position * location.depth)\n"
   ]
  },
  {
   "cell_type": "markdown",
   "metadata": {},
   "source": [
    "### Part 2"
   ]
  },
  {
   "cell_type": "code",
   "execution_count": 13,
   "metadata": {},
   "outputs": [],
   "source": [
    "@dataclass\n",
    "class Navigation:\n",
    "    position: int=0\n",
    "    depth: int=0\n",
    "    aim: int=0\n",
    "\n",
    "    def move(self, instruction):\n",
    "        match instruction.split():\n",
    "            case \"forward\", distance:\n",
    "                self.position += int(distance)\n",
    "                self.depth += self.aim * int(distance)\n",
    "            case \"down\", amount:\n",
    "                self.aim += int(amount)\n",
    "            case \"up\", amount:\n",
    "                self.aim -= int(amount)\n",
    "            case _:\n",
    "                print(f\"Error: unknown command -- {instruction}\")"
   ]
  },
  {
   "cell_type": "code",
   "execution_count": 14,
   "metadata": {},
   "outputs": [
    {
     "name": "stdout",
     "output_type": "stream",
     "text": [
      "forward 5\n",
      "Navigation(position=5, depth=0, aim=0)\n",
      "down 5\n",
      "Navigation(position=5, depth=0, aim=5)\n",
      "forward 8\n",
      "Navigation(position=13, depth=40, aim=5)\n",
      "up 3\n",
      "Navigation(position=13, depth=40, aim=2)\n",
      "down 8\n",
      "Navigation(position=13, depth=40, aim=10)\n",
      "forward 2\n",
      "Navigation(position=15, depth=60, aim=10)\n"
     ]
    }
   ],
   "source": [
    "submarine = Navigation()\n",
    "for instruction in test:\n",
    "    print(instruction)\n",
    "    submarine.move(instruction)\n",
    "    print(submarine)\n"
   ]
  },
  {
   "cell_type": "code",
   "execution_count": 15,
   "metadata": {},
   "outputs": [
    {
     "name": "stdout",
     "output_type": "stream",
     "text": [
      "Navigation(position=2083, depth=1002964, aim=955)\n",
      "2089174012\n"
     ]
    }
   ],
   "source": [
    "submarine = Navigation()\n",
    "for instruction in instructions:\n",
    "    submarine.move(instruction)\n",
    "print(submarine)\n",
    "print(submarine.position * submarine.depth)\n"
   ]
  },
  {
   "cell_type": "markdown",
   "metadata": {},
   "source": [
    "## Day 3\n",
    "### Part 1"
   ]
  },
  {
   "cell_type": "code",
   "execution_count": 18,
   "metadata": {},
   "outputs": [
    {
     "name": "stdout",
     "output_type": "stream",
     "text": [
      "['00100', '11110', '10110', '10111', '10101', '01111', '00111', '11100', '10000', '11001', '00010', '01010']\n"
     ]
    }
   ],
   "source": [
    "from textwrap import dedent\n",
    "\n",
    "test = dedent(\n",
    "    \"\"\"\\\n",
    "    00100\n",
    "    11110\n",
    "    10110\n",
    "    10111\n",
    "    10101\n",
    "    01111\n",
    "    00111\n",
    "    11100\n",
    "    10000\n",
    "    11001\n",
    "    00010\n",
    "    01010\"\"\"\n",
    ").splitlines()\n",
    "print(test)\n"
   ]
  },
  {
   "cell_type": "code",
   "execution_count": 19,
   "metadata": {},
   "outputs": [
    {
     "data": {
      "text/plain": [
       "[('0', '1', '1', '1', '1', '0', '0', '1', '1', '1', '0', '0'),\n",
       " ('0', '1', '0', '0', '0', '1', '0', '1', '0', '1', '0', '1'),\n",
       " ('1', '1', '1', '1', '1', '1', '1', '1', '0', '0', '0', '0'),\n",
       " ('0', '1', '1', '1', '0', '1', '1', '0', '0', '0', '1', '1'),\n",
       " ('0', '0', '0', '1', '1', '1', '1', '0', '0', '1', '0', '0')]"
      ]
     },
     "execution_count": 19,
     "metadata": {},
     "output_type": "execute_result"
    }
   ],
   "source": [
    "list(zip(*test))\n"
   ]
  },
  {
   "cell_type": "code",
   "execution_count": 27,
   "metadata": {},
   "outputs": [
    {
     "data": {
      "text/plain": [
       "['1', '0', '1', '1', '0']"
      ]
     },
     "execution_count": 27,
     "metadata": {},
     "output_type": "execute_result"
    }
   ],
   "source": [
    "from collections import Counter\n",
    "\n",
    "most_common_bits = lambda data: [Counter(c).most_common(1)[0][0] for c in zip(*data)]\n",
    "gamma_rate_bits = most_common_bits(test)\n",
    "gamma_rate_bits\n"
   ]
  },
  {
   "cell_type": "code",
   "execution_count": 42,
   "metadata": {},
   "outputs": [],
   "source": [
    "gamma_rate = int(\"\".join(gamma_rate_bits), 2)\n"
   ]
  },
  {
   "cell_type": "code",
   "execution_count": 46,
   "metadata": {},
   "outputs": [
    {
     "data": {
      "text/plain": [
       "9"
      ]
     },
     "execution_count": 46,
     "metadata": {},
     "output_type": "execute_result"
    }
   ],
   "source": [
    "NUM_BITS = len(test[0])\n",
    "mask = int(\"1\" * NUM_BITS, 2)\n",
    "mask ^ gamma_rate\n"
   ]
  },
  {
   "cell_type": "code",
   "execution_count": 65,
   "metadata": {},
   "outputs": [
    {
     "data": {
      "text/plain": [
       "2972336"
      ]
     },
     "execution_count": 65,
     "metadata": {},
     "output_type": "execute_result"
    }
   ],
   "source": [
    "with open(\"inputs/day3.txt\") as f:\n",
    "    report = [l.strip() for l in f.readlines()]\n",
    "# report = test\n",
    "NUM_BITS = len(report[0])\n",
    "mask = int(\"1\" * NUM_BITS, 2)\n",
    "gamma_rate_bits = most_common_bits(report)\n",
    "gamma_rate = int(\"\".join(gamma_rate_bits), 2)\n",
    "epsilon_rate = mask ^ gamma_rate\n",
    "power = gamma_rate * epsilon_rate\n",
    "power\n"
   ]
  },
  {
   "cell_type": "code",
   "execution_count": 69,
   "metadata": {},
   "outputs": [],
   "source": [
    "most_common_bits = lambda data: [Counter(c).most_common()[0][0] for c in zip(*data)]\n",
    "least_common_bits = lambda data: [Counter(c).most_common()[-1][0] for c in zip(*data)]\n"
   ]
  },
  {
   "cell_type": "code",
   "execution_count": 72,
   "metadata": {},
   "outputs": [
    {
     "data": {
      "text/plain": [
       "2972336"
      ]
     },
     "execution_count": 72,
     "metadata": {},
     "output_type": "execute_result"
    }
   ],
   "source": [
    "gamma_rate = int(\"\".join(most_common_bits(report)), 2)\n",
    "epsilon_rate = int(\"\".join(least_common_bits(report)), 2)\n",
    "gamma_rate * epsilon_rate\n"
   ]
  },
  {
   "cell_type": "markdown",
   "metadata": {},
   "source": [
    "### Part 2"
   ]
  },
  {
   "cell_type": "code",
   "execution_count": null,
   "metadata": {},
   "outputs": [],
   "source": []
  }
 ],
 "metadata": {
  "interpreter": {
   "hash": "ca3d29f37a1a1c4f5e7a988c75b7db15a8dc84e630022593e41cd81ca2ea4c4a"
  },
  "kernelspec": {
   "display_name": "Python 3.8.8 64-bit ('base': conda)",
   "language": "python",
   "name": "python3"
  },
  "language_info": {
   "codemirror_mode": {
    "name": "ipython",
    "version": 3
   },
   "file_extension": ".py",
   "mimetype": "text/x-python",
   "name": "python",
   "nbconvert_exporter": "python",
   "pygments_lexer": "ipython3",
   "version": "3.10.1"
  },
  "orig_nbformat": 4
 },
 "nbformat": 4,
 "nbformat_minor": 2
}
