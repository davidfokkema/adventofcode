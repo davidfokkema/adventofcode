{
 "cells": [
  {
   "cell_type": "markdown",
   "metadata": {},
   "source": [
    "# Advent of code 2019\n",
    "\n",
    "Dit jaar ga ik voor quick-and-dirty. Dus geen modules met tests, maar gewoon een scriptje.\n",
    "\n",
    "## Day 1: The Tyranny of the Rocket Equation\n",
    "\n",
    "### Part 1"
   ]
  },
  {
   "cell_type": "code",
   "execution_count": 2,
   "metadata": {},
   "outputs": [],
   "source": [
    "fuel_required = lambda mass: mass // 3 - 2\n",
    "\n",
    "assert fuel_required(12) == 2\n",
    "assert fuel_required(14) == 2\n",
    "assert fuel_required(1969) == 654\n",
    "assert fuel_required(100756) == 33583"
   ]
  },
  {
   "cell_type": "code",
   "execution_count": 3,
   "metadata": {},
   "outputs": [],
   "source": [
    "with open('inputs/day1.txt') as input:\n",
    "    masses = [int(u) for u in input.readlines()]"
   ]
  },
  {
   "cell_type": "code",
   "execution_count": 4,
   "metadata": {},
   "outputs": [
    {
     "data": {
      "text/plain": [
       "[51753, 53456, 128133]"
      ]
     },
     "execution_count": 4,
     "metadata": {},
     "output_type": "execute_result"
    }
   ],
   "source": [
    "masses[:3]"
   ]
  },
  {
   "cell_type": "code",
   "execution_count": 5,
   "metadata": {},
   "outputs": [
    {
     "data": {
      "text/plain": [
       "3373568"
      ]
     },
     "execution_count": 5,
     "metadata": {},
     "output_type": "execute_result"
    }
   ],
   "source": [
    "sum([fuel_required(u) for u in masses])"
   ]
  },
  {
   "cell_type": "markdown",
   "metadata": {},
   "source": [
    "### Part 2"
   ]
  },
  {
   "cell_type": "code",
   "execution_count": 6,
   "metadata": {},
   "outputs": [],
   "source": [
    "def calculate_fuel(mass):\n",
    "    fuel = fuel_required(mass)\n",
    "    if fuel <= 0:\n",
    "        return 0\n",
    "    else:\n",
    "        return fuel + calculate_fuel(fuel)\n",
    "\n",
    "assert calculate_fuel(14) == 2\n",
    "assert calculate_fuel(1969) == 966\n",
    "assert calculate_fuel(100756) == 50346"
   ]
  },
  {
   "cell_type": "code",
   "execution_count": 7,
   "metadata": {},
   "outputs": [
    {
     "data": {
      "text/plain": [
       "5057481"
      ]
     },
     "execution_count": 7,
     "metadata": {},
     "output_type": "execute_result"
    }
   ],
   "source": [
    "sum([calculate_fuel(u) for u in masses])"
   ]
  },
  {
   "cell_type": "markdown",
   "metadata": {},
   "source": [
    "## Day 2: 1202 Program Alarm\n",
    "\n",
    "### Part 1"
   ]
  },
  {
   "cell_type": "code",
   "execution_count": 8,
   "metadata": {},
   "outputs": [],
   "source": [
    "def run_program(program):\n",
    "    ip = 0\n",
    "    while program[ip] != 99:\n",
    "        opcode, input1_p, input2_p, output_p = program[ip:ip + 4]\n",
    "        input1, input2 = program[input1_p], program[input2_p]\n",
    "        if opcode == 1:\n",
    "            program[output_p] = input1 + input2\n",
    "        elif opcode == 2:\n",
    "            program[output_p] = input1 * input2\n",
    "        else:\n",
    "            raise RuntimeError(\"Unknown opcode\")\n",
    "        ip += 4\n",
    "    return program"
   ]
  },
  {
   "cell_type": "code",
   "execution_count": 9,
   "metadata": {},
   "outputs": [],
   "source": [
    "assert run_program([1,9,10,3,2,3,11,0,99,30,40,50]) == [3500,9,10,70,2,3,11,0,99,30,40,50]\n",
    "assert run_program([1,0,0,0,99]) == [2,0,0,0,99]\n",
    "assert run_program([1,1,1,4,99,5,6,0,99]) == [30,1,1,4,2,5,6,0,99]"
   ]
  },
  {
   "cell_type": "code",
   "execution_count": 10,
   "metadata": {},
   "outputs": [],
   "source": [
    "with open('inputs/day2.txt') as file:\n",
    "    program = [int(u) for u in file.readline().split(',')]"
   ]
  },
  {
   "cell_type": "code",
   "execution_count": 11,
   "metadata": {},
   "outputs": [
    {
     "data": {
      "text/plain": [
       "[1, 0, 0, 3]"
      ]
     },
     "execution_count": 11,
     "metadata": {},
     "output_type": "execute_result"
    }
   ],
   "source": [
    "program[:4]"
   ]
  },
  {
   "cell_type": "code",
   "execution_count": 12,
   "metadata": {},
   "outputs": [
    {
     "name": "stdout",
     "output_type": "stream",
     "text": [
      "Answer: 3790689\n"
     ]
    }
   ],
   "source": [
    "program[1] = 12; program[2] = 2\n",
    "program = run_program(program)\n",
    "print(f\"Answer: {program[0]}\")"
   ]
  },
  {
   "cell_type": "markdown",
   "metadata": {},
   "source": [
    "### Part 2"
   ]
  },
  {
   "cell_type": "code",
   "execution_count": 13,
   "metadata": {},
   "outputs": [],
   "source": [
    "with open('inputs/day2.txt') as file:\n",
    "    org_program = [int(u) for u in file.readline().split(',')]"
   ]
  },
  {
   "cell_type": "code",
   "execution_count": 14,
   "metadata": {},
   "outputs": [],
   "source": [
    "import itertools"
   ]
  },
  {
   "cell_type": "code",
   "execution_count": 15,
   "metadata": {},
   "outputs": [],
   "source": [
    "for noun, verb in itertools.product(range(100), repeat=2):\n",
    "    program = org_program.copy()\n",
    "    program[1] = noun; program[2] = verb\n",
    "    try:\n",
    "        memory = run_program(program)\n",
    "    except RuntimeError:\n",
    "        continue\n",
    "    if memory[0] == 19690720: break\n",
    "assert memory[0] == 19690720"
   ]
  },
  {
   "cell_type": "code",
   "execution_count": 16,
   "metadata": {},
   "outputs": [
    {
     "name": "stdout",
     "output_type": "stream",
     "text": [
      "Answer: 6533\n"
     ]
    }
   ],
   "source": [
    "print(f\"Answer: {100 * noun + verb}\")"
   ]
  },
  {
   "cell_type": "markdown",
   "metadata": {},
   "source": [
    "## Day 3: Crossed Wires\n",
    "\n",
    "### Part 1"
   ]
  },
  {
   "cell_type": "code",
   "execution_count": 87,
   "metadata": {},
   "outputs": [],
   "source": [
    "import numpy as np"
   ]
  },
  {
   "cell_type": "code",
   "execution_count": 88,
   "metadata": {},
   "outputs": [],
   "source": [
    "grid = np.zeros(shape=(21, 21))"
   ]
  },
  {
   "cell_type": "code",
   "execution_count": 89,
   "metadata": {},
   "outputs": [],
   "source": [
    "def show_grid(grid):\n",
    "    size = grid.shape[0]\n",
    "    center = size // 2\n",
    "    for row in range(size - 1, -1, -1):\n",
    "        for col in range(size):\n",
    "            if row == col == center:\n",
    "                print('O', end='')\n",
    "            else:\n",
    "                value = grid[col, row]\n",
    "                if value == 0:\n",
    "                    print('.', end='')\n",
    "                else:\n",
    "                    print(int(value), end='')\n",
    "        print('')"
   ]
  },
  {
   "cell_type": "code",
   "execution_count": 90,
   "metadata": {},
   "outputs": [
    {
     "name": "stdout",
     "output_type": "stream",
     "text": [
      ".....................\n",
      ".....................\n",
      ".....................\n",
      ".....................\n",
      ".....................\n",
      ".....................\n",
      ".....................\n",
      ".....................\n",
      ".....................\n",
      ".....................\n",
      "..........O..........\n",
      ".....................\n",
      ".....................\n",
      ".....................\n",
      ".....................\n",
      ".....................\n",
      ".....................\n",
      ".....................\n",
      ".....................\n",
      ".....................\n",
      ".....................\n"
     ]
    }
   ],
   "source": [
    "show_grid(grid)"
   ]
  },
  {
   "cell_type": "code",
   "execution_count": 94,
   "metadata": {},
   "outputs": [],
   "source": [
    "def follow_wires(wires, grid):\n",
    "    size = grid.shape[0]\n",
    "    center = size // 2\n",
    "\n",
    "    for wire in wires:\n",
    "        tmp_grid = np.zeros(shape=(size, size))\n",
    "        moves = wire.split(',')\n",
    "        x, y = (center, center)\n",
    "        for move in moves:\n",
    "            dir, length = move[0], int(move[1:])\n",
    "            # for each move, the current position is not incremented, the endpoint *is*.\n",
    "            # a few +1 are neede because of exclusive indexing, but they are *not* needed when the range is inversed.\n",
    "            if dir == 'R':\n",
    "                tmp_grid[x + 1:x + length + 1, y] = 1\n",
    "                x += length\n",
    "            elif dir == 'L':\n",
    "                tmp_grid[x - length:x, y] = 1\n",
    "                x -= length\n",
    "            elif dir == 'U':\n",
    "                tmp_grid[x, y + 1:y + length + 1] = 1\n",
    "                y += length\n",
    "            elif dir == 'D':\n",
    "                tmp_grid[x, y - length:y] = 1\n",
    "                y -= length\n",
    "        grid += tmp_grid"
   ]
  },
  {
   "cell_type": "code",
   "execution_count": 96,
   "metadata": {},
   "outputs": [
    {
     "name": "stdout",
     "output_type": "stream",
     "text": [
      ".....................\n",
      ".....................\n",
      ".....................\n",
      "..........1111111....\n",
      "..........1.....1....\n",
      "..........1..111211..\n",
      "..........1..1..1.1..\n",
      "..........1.12111.1..\n",
      "..........1..1....1..\n",
      "..........1.......1..\n",
      "..........O11111111..\n",
      ".....................\n",
      ".....................\n",
      ".....................\n",
      ".....................\n",
      ".....................\n",
      ".....................\n",
      ".....................\n",
      ".....................\n",
      ".....................\n",
      ".....................\n"
     ]
    }
   ],
   "source": [
    "grid = np.zeros(shape=(21, 21))\n",
    "wires = []\n",
    "wires.append(\"R8,U5,L5,D3\")\n",
    "wires.append(\"U7,R6,D4,L4\")\n",
    "\n",
    "follow_wires(wires, grid)\n",
    "show_grid(grid)"
   ]
  },
  {
   "cell_type": "code",
   "execution_count": 97,
   "metadata": {},
   "outputs": [
    {
     "data": {
      "text/plain": [
       "(array([13, 16]), array([13, 15]))"
      ]
     },
     "execution_count": 97,
     "metadata": {},
     "output_type": "execute_result"
    }
   ],
   "source": [
    "np.where(grid == 2)"
   ]
  },
  {
   "cell_type": "code",
   "execution_count": 98,
   "metadata": {},
   "outputs": [],
   "source": [
    "def calc_cross_distance(grid):\n",
    "    grid_size = grid.shape[0]\n",
    "    center = grid_size // 2\n",
    "    distances = []\n",
    "    for x, y in zip(*np.where(grid == 2)):\n",
    "        distances.append(abs(x - center) + abs(y - center))\n",
    "    print(distances)\n",
    "    return min(distances)"
   ]
  },
  {
   "cell_type": "code",
   "execution_count": 99,
   "metadata": {},
   "outputs": [
    {
     "name": "stdout",
     "output_type": "stream",
     "text": [
      "[6, 11]\n"
     ]
    },
    {
     "data": {
      "text/plain": [
       "6"
      ]
     },
     "execution_count": 99,
     "metadata": {},
     "output_type": "execute_result"
    }
   ],
   "source": [
    "calc_cross_distance(grid)"
   ]
  },
  {
   "cell_type": "code",
   "execution_count": 101,
   "metadata": {},
   "outputs": [
    {
     "name": "stdout",
     "output_type": "stream",
     "text": [
      "[192, 159, 166, 170]\n"
     ]
    },
    {
     "data": {
      "text/plain": [
       "159"
      ]
     },
     "execution_count": 101,
     "metadata": {},
     "output_type": "execute_result"
    }
   ],
   "source": [
    "grid = np.zeros(shape=(1001, 1001))\n",
    "wires = []\n",
    "wires.append(\"R75,D30,R83,U83,L12,D49,R71,U7,L72\")\n",
    "wires.append(\"U62,R66,U55,R34,D71,R55,D58,R83\")\n",
    "follow_wires(wires, grid)\n",
    "calc_cross_distance(grid)"
   ]
  },
  {
   "cell_type": "code",
   "execution_count": 102,
   "metadata": {},
   "outputs": [
    {
     "name": "stdout",
     "output_type": "stream",
     "text": [
      "[154, 158, 178, 135, 175]\n"
     ]
    },
    {
     "data": {
      "text/plain": [
       "135"
      ]
     },
     "execution_count": 102,
     "metadata": {},
     "output_type": "execute_result"
    }
   ],
   "source": [
    "grid = np.zeros(shape=(1001, 1001))\n",
    "wires = []\n",
    "wires.append(\"R98,U47,R26,D63,R33,U87,L62,D20,R33,U53,R51\")\n",
    "wires.append(\"U98,R91,D20,R16,D67,R40,U7,R15,U6,R7\")\n",
    "follow_wires(wires, grid)\n",
    "calc_cross_distance(grid)"
   ]
  },
  {
   "cell_type": "markdown",
   "metadata": {},
   "source": [
    "#### Answer"
   ]
  },
  {
   "cell_type": "code",
   "execution_count": null,
   "metadata": {},
   "outputs": [],
   "source": [
    "with open(\"input/day3.txt\") as f:\n",
    "    "
   ]
  }
 ],
 "metadata": {
  "kernelspec": {
   "display_name": "Python 3",
   "language": "python",
   "name": "python3"
  },
  "language_info": {
   "codemirror_mode": {
    "name": "ipython",
    "version": 3
   },
   "file_extension": ".py",
   "mimetype": "text/x-python",
   "name": "python",
   "nbconvert_exporter": "python",
   "pygments_lexer": "ipython3",
   "version": "3.7.4"
  }
 },
 "nbformat": 4,
 "nbformat_minor": 4
}
