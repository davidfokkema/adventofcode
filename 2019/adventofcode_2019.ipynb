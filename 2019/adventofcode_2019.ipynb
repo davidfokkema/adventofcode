{
 "cells": [
  {
   "cell_type": "markdown",
   "metadata": {},
   "source": [
    "# Advent of code 2019\n",
    "\n",
    "Dit jaar ga ik voor quick-and-dirty. Dus geen modules met tests, maar gewoon een scriptje.\n",
    "\n",
    "## Day 1: The Tyranny of the Rocket Equation\n",
    "\n",
    "### Part 1"
   ]
  },
  {
   "cell_type": "code",
   "execution_count": 3,
   "metadata": {},
   "outputs": [],
   "source": [
    "fuel_required = lambda mass: mass // 3 - 2\n",
    "\n",
    "assert fuel_required(12) == 2\n",
    "assert fuel_required(14) == 2\n",
    "assert fuel_required(1969) == 654\n",
    "assert fuel_required(100756) == 33583"
   ]
  },
  {
   "cell_type": "code",
   "execution_count": 7,
   "metadata": {},
   "outputs": [],
   "source": [
    "with open('inputs/day1.txt') as input:\n",
    "    masses = [int(u) for u in input.readlines()]"
   ]
  },
  {
   "cell_type": "code",
   "execution_count": 9,
   "metadata": {},
   "outputs": [
    {
     "data": {
      "text/plain": [
       "[51753, 53456, 128133]"
      ]
     },
     "execution_count": 9,
     "metadata": {},
     "output_type": "execute_result"
    }
   ],
   "source": [
    "masses[:3]"
   ]
  },
  {
   "cell_type": "code",
   "execution_count": 11,
   "metadata": {},
   "outputs": [
    {
     "data": {
      "text/plain": [
       "3373568"
      ]
     },
     "execution_count": 11,
     "metadata": {},
     "output_type": "execute_result"
    }
   ],
   "source": [
    "sum([fuel_required(u) for u in masses])"
   ]
  },
  {
   "cell_type": "markdown",
   "metadata": {},
   "source": [
    "### Part 2"
   ]
  },
  {
   "cell_type": "code",
   "execution_count": 14,
   "metadata": {},
   "outputs": [],
   "source": [
    "def calculate_fuel(mass):\n",
    "    fuel = fuel_required(mass)\n",
    "    if fuel <= 0:\n",
    "        return 0\n",
    "    else:\n",
    "        return fuel + calculate_fuel(fuel)\n",
    "\n",
    "assert calculate_fuel(14) == 2\n",
    "assert calculate_fuel(1969) == 966\n",
    "assert calculate_fuel(100756) == 50346"
   ]
  },
  {
   "cell_type": "code",
   "execution_count": 16,
   "metadata": {},
   "outputs": [
    {
     "data": {
      "text/plain": [
       "5057481"
      ]
     },
     "execution_count": 16,
     "metadata": {},
     "output_type": "execute_result"
    }
   ],
   "source": [
    "sum([calculate_fuel(u) for u in masses])"
   ]
  },
  {
   "cell_type": "markdown",
   "metadata": {},
   "source": [
    "## Day 2: 1202 Program Alarm\n",
    "\n",
    "### Part 1"
   ]
  },
  {
   "cell_type": "code",
   "execution_count": 27,
   "metadata": {},
   "outputs": [],
   "source": [
    "def run_program(program):\n",
    "    ip = 0\n",
    "    while program[ip] != 99:\n",
    "        opcode, input1_p, input2_p, output_p = program[ip:ip + 4]\n",
    "        input1, input2 = program[input1_p], program[input2_p]\n",
    "        if opcode == 1:\n",
    "            program[output_p] = input1 + input2\n",
    "        elif opcode == 2:\n",
    "            program[output_p] = input1 * input2\n",
    "        else:\n",
    "            raise RuntimeError(\"Unknown opcode\")\n",
    "        ip += 4\n",
    "    return program"
   ]
  },
  {
   "cell_type": "code",
   "execution_count": 31,
   "metadata": {},
   "outputs": [],
   "source": [
    "assert run_program([1,9,10,3,2,3,11,0,99,30,40,50]) == [3500,9,10,70,2,3,11,0,99,30,40,50]\n",
    "assert run_program([1,0,0,0,99]) == [2,0,0,0,99]\n",
    "assert run_program([1,1,1,4,99,5,6,0,99]) == [30,1,1,4,2,5,6,0,99]"
   ]
  },
  {
   "cell_type": "code",
   "execution_count": 33,
   "metadata": {},
   "outputs": [],
   "source": [
    "with open('inputs/day2.txt') as file:\n",
    "    program = [int(u) for u in file.readline().split(',')]"
   ]
  },
  {
   "cell_type": "code",
   "execution_count": 34,
   "metadata": {},
   "outputs": [
    {
     "data": {
      "text/plain": [
       "[1, 0, 0, 3]"
      ]
     },
     "execution_count": 34,
     "metadata": {},
     "output_type": "execute_result"
    }
   ],
   "source": [
    "program[:4]"
   ]
  },
  {
   "cell_type": "code",
   "execution_count": 35,
   "metadata": {},
   "outputs": [
    {
     "name": "stdout",
     "output_type": "stream",
     "text": [
      "Answer: 3790689\n"
     ]
    }
   ],
   "source": [
    "program[1] = 12; program[2] = 2\n",
    "program = run_program(program)\n",
    "print(f\"Answer: {program[0]}\")"
   ]
  },
  {
   "cell_type": "markdown",
   "metadata": {},
   "source": [
    "### Part 2"
   ]
  },
  {
   "cell_type": "code",
   "execution_count": 54,
   "metadata": {},
   "outputs": [],
   "source": [
    "with open('inputs/day2.txt') as file:\n",
    "    org_program = [int(u) for u in file.readline().split(',')]"
   ]
  },
  {
   "cell_type": "code",
   "execution_count": 55,
   "metadata": {},
   "outputs": [],
   "source": [
    "import itertools"
   ]
  },
  {
   "cell_type": "code",
   "execution_count": 56,
   "metadata": {},
   "outputs": [],
   "source": [
    "for noun, verb in itertools.product(range(100), repeat=2):\n",
    "    program = org_program.copy()\n",
    "    program[1] = noun; program[2] = verb\n",
    "    try:\n",
    "        memory = run_program(program)\n",
    "    except RuntimeError:\n",
    "        continue\n",
    "    if memory[0] == 19690720: break\n",
    "assert memory[0] == 19690720"
   ]
  },
  {
   "cell_type": "code",
   "execution_count": 57,
   "metadata": {},
   "outputs": [
    {
     "name": "stdout",
     "output_type": "stream",
     "text": [
      "Answer: 6533\n"
     ]
    }
   ],
   "source": [
    "print(f\"Answer: {100 * noun + verb}\")"
   ]
  },
  {
   "cell_type": "code",
   "execution_count": null,
   "metadata": {},
   "outputs": [],
   "source": []
  }
 ],
 "metadata": {
  "kernelspec": {
   "display_name": "Python 3",
   "language": "python",
   "name": "python3"
  },
  "language_info": {
   "codemirror_mode": {
    "name": "ipython",
    "version": 3
   },
   "file_extension": ".py",
   "mimetype": "text/x-python",
   "name": "python",
   "nbconvert_exporter": "python",
   "pygments_lexer": "ipython3",
   "version": "3.7.4"
  }
 },
 "nbformat": 4,
 "nbformat_minor": 4
}
