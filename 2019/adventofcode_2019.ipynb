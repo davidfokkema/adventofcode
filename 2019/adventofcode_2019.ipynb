{
 "cells": [
  {
   "cell_type": "markdown",
   "metadata": {},
   "source": [
    "# Advent of code 2019\n",
    "\n",
    "Dit jaar ga ik voor quick-and-dirty. Dus geen modules met tests, maar gewoon een scriptje.\n",
    "\n",
    "## Day 1: The Tyranny of the Rocket Equation\n",
    "\n",
    "### Part 1"
   ]
  },
  {
   "cell_type": "code",
   "execution_count": 2,
   "metadata": {},
   "outputs": [],
   "source": [
    "fuel_required = lambda mass: mass // 3 - 2\n",
    "\n",
    "assert fuel_required(12) == 2\n",
    "assert fuel_required(14) == 2\n",
    "assert fuel_required(1969) == 654\n",
    "assert fuel_required(100756) == 33583"
   ]
  },
  {
   "cell_type": "code",
   "execution_count": 3,
   "metadata": {},
   "outputs": [],
   "source": [
    "with open('inputs/day1.txt') as input:\n",
    "    masses = [int(u) for u in input.readlines()]"
   ]
  },
  {
   "cell_type": "code",
   "execution_count": 4,
   "metadata": {},
   "outputs": [
    {
     "data": {
      "text/plain": [
       "[51753, 53456, 128133]"
      ]
     },
     "execution_count": 4,
     "metadata": {},
     "output_type": "execute_result"
    }
   ],
   "source": [
    "masses[:3]"
   ]
  },
  {
   "cell_type": "code",
   "execution_count": 5,
   "metadata": {},
   "outputs": [
    {
     "data": {
      "text/plain": [
       "3373568"
      ]
     },
     "execution_count": 5,
     "metadata": {},
     "output_type": "execute_result"
    }
   ],
   "source": [
    "sum([fuel_required(u) for u in masses])"
   ]
  },
  {
   "cell_type": "markdown",
   "metadata": {},
   "source": [
    "### Part 2"
   ]
  },
  {
   "cell_type": "code",
   "execution_count": 6,
   "metadata": {},
   "outputs": [],
   "source": [
    "def calculate_fuel(mass):\n",
    "    fuel = fuel_required(mass)\n",
    "    if fuel <= 0:\n",
    "        return 0\n",
    "    else:\n",
    "        return fuel + calculate_fuel(fuel)\n",
    "\n",
    "assert calculate_fuel(14) == 2\n",
    "assert calculate_fuel(1969) == 966\n",
    "assert calculate_fuel(100756) == 50346"
   ]
  },
  {
   "cell_type": "code",
   "execution_count": 7,
   "metadata": {},
   "outputs": [
    {
     "data": {
      "text/plain": [
       "5057481"
      ]
     },
     "execution_count": 7,
     "metadata": {},
     "output_type": "execute_result"
    }
   ],
   "source": [
    "sum([calculate_fuel(u) for u in masses])"
   ]
  },
  {
   "cell_type": "markdown",
   "metadata": {},
   "source": [
    "## Day 2: 1202 Program Alarm\n",
    "\n",
    "### Part 1"
   ]
  },
  {
   "cell_type": "code",
   "execution_count": 8,
   "metadata": {},
   "outputs": [],
   "source": [
    "def run_program(program):\n",
    "    ip = 0\n",
    "    while program[ip] != 99:\n",
    "        opcode, input1_p, input2_p, output_p = program[ip:ip + 4]\n",
    "        input1, input2 = program[input1_p], program[input2_p]\n",
    "        if opcode == 1:\n",
    "            program[output_p] = input1 + input2\n",
    "        elif opcode == 2:\n",
    "            program[output_p] = input1 * input2\n",
    "        else:\n",
    "            raise RuntimeError(\"Unknown opcode\")\n",
    "        ip += 4\n",
    "    return program"
   ]
  },
  {
   "cell_type": "code",
   "execution_count": 3,
   "metadata": {},
   "outputs": [
    {
     "ename": "RuntimeError",
     "evalue": "Unknown opcode",
     "output_type": "error",
     "traceback": [
      "\u001b[0;31m---------------------------------------------------------------------------\u001b[0m",
      "\u001b[0;31mRuntimeError\u001b[0m                              Traceback (most recent call last)",
      "\u001b[0;32m<ipython-input-3-877505168891>\u001b[0m in \u001b[0;36m<module>\u001b[0;34m\u001b[0m\n\u001b[0;32m----> 1\u001b[0;31m \u001b[0;32massert\u001b[0m \u001b[0mrun_program\u001b[0m\u001b[0;34m(\u001b[0m\u001b[0;34m[\u001b[0m\u001b[0;36m1\u001b[0m\u001b[0;34m,\u001b[0m\u001b[0;36m9\u001b[0m\u001b[0;34m,\u001b[0m\u001b[0;36m10\u001b[0m\u001b[0;34m,\u001b[0m\u001b[0;36m3\u001b[0m\u001b[0;34m,\u001b[0m\u001b[0;36m2\u001b[0m\u001b[0;34m,\u001b[0m\u001b[0;36m3\u001b[0m\u001b[0;34m,\u001b[0m\u001b[0;36m11\u001b[0m\u001b[0;34m,\u001b[0m\u001b[0;36m0\u001b[0m\u001b[0;34m,\u001b[0m\u001b[0;36m99\u001b[0m\u001b[0;34m,\u001b[0m\u001b[0;36m30\u001b[0m\u001b[0;34m,\u001b[0m\u001b[0;36m40\u001b[0m\u001b[0;34m,\u001b[0m\u001b[0;36m50\u001b[0m\u001b[0;34m]\u001b[0m\u001b[0;34m)\u001b[0m \u001b[0;34m==\u001b[0m \u001b[0;34m[\u001b[0m\u001b[0;36m3500\u001b[0m\u001b[0;34m,\u001b[0m\u001b[0;36m9\u001b[0m\u001b[0;34m,\u001b[0m\u001b[0;36m10\u001b[0m\u001b[0;34m,\u001b[0m\u001b[0;36m70\u001b[0m\u001b[0;34m,\u001b[0m\u001b[0;36m2\u001b[0m\u001b[0;34m,\u001b[0m\u001b[0;36m3\u001b[0m\u001b[0;34m,\u001b[0m\u001b[0;36m11\u001b[0m\u001b[0;34m,\u001b[0m\u001b[0;36m0\u001b[0m\u001b[0;34m,\u001b[0m\u001b[0;36m99\u001b[0m\u001b[0;34m,\u001b[0m\u001b[0;36m30\u001b[0m\u001b[0;34m,\u001b[0m\u001b[0;36m40\u001b[0m\u001b[0;34m,\u001b[0m\u001b[0;36m50\u001b[0m\u001b[0;34m]\u001b[0m\u001b[0;34m\u001b[0m\u001b[0;34m\u001b[0m\u001b[0m\n\u001b[0m\u001b[1;32m      2\u001b[0m \u001b[0;32massert\u001b[0m \u001b[0mrun_program\u001b[0m\u001b[0;34m(\u001b[0m\u001b[0;34m[\u001b[0m\u001b[0;36m1\u001b[0m\u001b[0;34m,\u001b[0m\u001b[0;36m0\u001b[0m\u001b[0;34m,\u001b[0m\u001b[0;36m0\u001b[0m\u001b[0;34m,\u001b[0m\u001b[0;36m0\u001b[0m\u001b[0;34m,\u001b[0m\u001b[0;36m99\u001b[0m\u001b[0;34m]\u001b[0m\u001b[0;34m)\u001b[0m \u001b[0;34m==\u001b[0m \u001b[0;34m[\u001b[0m\u001b[0;36m2\u001b[0m\u001b[0;34m,\u001b[0m\u001b[0;36m0\u001b[0m\u001b[0;34m,\u001b[0m\u001b[0;36m0\u001b[0m\u001b[0;34m,\u001b[0m\u001b[0;36m0\u001b[0m\u001b[0;34m,\u001b[0m\u001b[0;36m99\u001b[0m\u001b[0;34m]\u001b[0m\u001b[0;34m\u001b[0m\u001b[0;34m\u001b[0m\u001b[0m\n\u001b[1;32m      3\u001b[0m \u001b[0;32massert\u001b[0m \u001b[0mrun_program\u001b[0m\u001b[0;34m(\u001b[0m\u001b[0;34m[\u001b[0m\u001b[0;36m1\u001b[0m\u001b[0;34m,\u001b[0m\u001b[0;36m1\u001b[0m\u001b[0;34m,\u001b[0m\u001b[0;36m1\u001b[0m\u001b[0;34m,\u001b[0m\u001b[0;36m4\u001b[0m\u001b[0;34m,\u001b[0m\u001b[0;36m99\u001b[0m\u001b[0;34m,\u001b[0m\u001b[0;36m5\u001b[0m\u001b[0;34m,\u001b[0m\u001b[0;36m6\u001b[0m\u001b[0;34m,\u001b[0m\u001b[0;36m0\u001b[0m\u001b[0;34m,\u001b[0m\u001b[0;36m99\u001b[0m\u001b[0;34m]\u001b[0m\u001b[0;34m)\u001b[0m \u001b[0;34m==\u001b[0m \u001b[0;34m[\u001b[0m\u001b[0;36m30\u001b[0m\u001b[0;34m,\u001b[0m\u001b[0;36m1\u001b[0m\u001b[0;34m,\u001b[0m\u001b[0;36m1\u001b[0m\u001b[0;34m,\u001b[0m\u001b[0;36m4\u001b[0m\u001b[0;34m,\u001b[0m\u001b[0;36m2\u001b[0m\u001b[0;34m,\u001b[0m\u001b[0;36m5\u001b[0m\u001b[0;34m,\u001b[0m\u001b[0;36m6\u001b[0m\u001b[0;34m,\u001b[0m\u001b[0;36m0\u001b[0m\u001b[0;34m,\u001b[0m\u001b[0;36m99\u001b[0m\u001b[0;34m]\u001b[0m\u001b[0;34m\u001b[0m\u001b[0;34m\u001b[0m\u001b[0m\n",
      "\u001b[0;32m<ipython-input-2-63f39697b513>\u001b[0m in \u001b[0;36mrun_program\u001b[0;34m(program)\u001b[0m\n\u001b[1;32m     18\u001b[0m             \u001b[0mip\u001b[0m \u001b[0;34m+=\u001b[0m \u001b[0;36m4\u001b[0m\u001b[0;34m\u001b[0m\u001b[0;34m\u001b[0m\u001b[0m\n\u001b[1;32m     19\u001b[0m         \u001b[0;32melse\u001b[0m\u001b[0;34m:\u001b[0m\u001b[0;34m\u001b[0m\u001b[0;34m\u001b[0m\u001b[0m\n\u001b[0;32m---> 20\u001b[0;31m             \u001b[0;32mraise\u001b[0m \u001b[0mRuntimeError\u001b[0m\u001b[0;34m(\u001b[0m\u001b[0;34m\"Unknown opcode\"\u001b[0m\u001b[0;34m)\u001b[0m\u001b[0;34m\u001b[0m\u001b[0;34m\u001b[0m\u001b[0m\n\u001b[0m\u001b[1;32m     21\u001b[0m     \u001b[0;32mreturn\u001b[0m \u001b[0mprogram\u001b[0m\u001b[0;34m\u001b[0m\u001b[0;34m\u001b[0m\u001b[0m\n",
      "\u001b[0;31mRuntimeError\u001b[0m: Unknown opcode"
     ]
    }
   ],
   "source": [
    "assert run_program([1,9,10,3,2,3,11,0,99,30,40,50]) == [3500,9,10,70,2,3,11,0,99,30,40,50]\n",
    "assert run_program([1,0,0,0,99]) == [2,0,0,0,99]\n",
    "assert run_program([1,1,1,4,99,5,6,0,99]) == [30,1,1,4,2,5,6,0,99]"
   ]
  },
  {
   "cell_type": "code",
   "execution_count": 10,
   "metadata": {},
   "outputs": [],
   "source": [
    "with open('inputs/day2.txt') as file:\n",
    "    program = [int(u) for u in file.readline().split(',')]"
   ]
  },
  {
   "cell_type": "code",
   "execution_count": 11,
   "metadata": {},
   "outputs": [
    {
     "data": {
      "text/plain": [
       "[1, 0, 0, 3]"
      ]
     },
     "execution_count": 11,
     "metadata": {},
     "output_type": "execute_result"
    }
   ],
   "source": [
    "program[:4]"
   ]
  },
  {
   "cell_type": "code",
   "execution_count": 12,
   "metadata": {},
   "outputs": [
    {
     "name": "stdout",
     "output_type": "stream",
     "text": [
      "Answer: 3790689\n"
     ]
    }
   ],
   "source": [
    "program[1] = 12; program[2] = 2\n",
    "program = run_program(program)\n",
    "print(f\"Answer: {program[0]}\")"
   ]
  },
  {
   "cell_type": "markdown",
   "metadata": {},
   "source": [
    "### Part 2"
   ]
  },
  {
   "cell_type": "code",
   "execution_count": 13,
   "metadata": {},
   "outputs": [],
   "source": [
    "with open('inputs/day2.txt') as file:\n",
    "    org_program = [int(u) for u in file.readline().split(',')]"
   ]
  },
  {
   "cell_type": "code",
   "execution_count": 14,
   "metadata": {},
   "outputs": [],
   "source": [
    "import itertools"
   ]
  },
  {
   "cell_type": "code",
   "execution_count": 15,
   "metadata": {},
   "outputs": [],
   "source": [
    "for noun, verb in itertools.product(range(100), repeat=2):\n",
    "    program = org_program.copy()\n",
    "    program[1] = noun; program[2] = verb\n",
    "    try:\n",
    "        memory = run_program(program)\n",
    "    except RuntimeError:\n",
    "        continue\n",
    "    if memory[0] == 19690720: break\n",
    "assert memory[0] == 19690720"
   ]
  },
  {
   "cell_type": "code",
   "execution_count": 16,
   "metadata": {},
   "outputs": [
    {
     "name": "stdout",
     "output_type": "stream",
     "text": [
      "Answer: 6533\n"
     ]
    }
   ],
   "source": [
    "print(f\"Answer: {100 * noun + verb}\")"
   ]
  },
  {
   "cell_type": "markdown",
   "metadata": {},
   "source": [
    "## Day 3: Crossed Wires\n",
    "\n",
    "### Part 1"
   ]
  },
  {
   "cell_type": "code",
   "execution_count": 87,
   "metadata": {},
   "outputs": [],
   "source": [
    "import numpy as np"
   ]
  },
  {
   "cell_type": "code",
   "execution_count": 88,
   "metadata": {},
   "outputs": [],
   "source": [
    "grid = np.zeros(shape=(21, 21))"
   ]
  },
  {
   "cell_type": "code",
   "execution_count": 89,
   "metadata": {},
   "outputs": [],
   "source": [
    "def show_grid(grid):\n",
    "    size = grid.shape[0]\n",
    "    center = size // 2\n",
    "    for row in range(size - 1, -1, -1):\n",
    "        for col in range(size):\n",
    "            if row == col == center:\n",
    "                print('O', end='')\n",
    "            else:\n",
    "                value = grid[col, row]\n",
    "                if value == 0:\n",
    "                    print('.', end='')\n",
    "                else:\n",
    "                    print(int(value), end='')\n",
    "        print('')"
   ]
  },
  {
   "cell_type": "code",
   "execution_count": 90,
   "metadata": {},
   "outputs": [
    {
     "name": "stdout",
     "output_type": "stream",
     "text": [
      ".....................\n",
      ".....................\n",
      ".....................\n",
      ".....................\n",
      ".....................\n",
      ".....................\n",
      ".....................\n",
      ".....................\n",
      ".....................\n",
      ".....................\n",
      "..........O..........\n",
      ".....................\n",
      ".....................\n",
      ".....................\n",
      ".....................\n",
      ".....................\n",
      ".....................\n",
      ".....................\n",
      ".....................\n",
      ".....................\n",
      ".....................\n"
     ]
    }
   ],
   "source": [
    "show_grid(grid)"
   ]
  },
  {
   "cell_type": "code",
   "execution_count": 94,
   "metadata": {},
   "outputs": [],
   "source": [
    "def follow_wires(wires, grid):\n",
    "    size = grid.shape[0]\n",
    "    center = size // 2\n",
    "\n",
    "    for wire in wires:\n",
    "        tmp_grid = np.zeros(shape=(size, size))\n",
    "        moves = wire.split(',')\n",
    "        x, y = (center, center)\n",
    "        for move in moves:\n",
    "            dir, length = move[0], int(move[1:])\n",
    "            # for each move, the current position is not incremented, the endpoint *is*.\n",
    "            # a few +1 are neede because of exclusive indexing, but they are *not* needed when the range is inversed.\n",
    "            if dir == 'R':\n",
    "                tmp_grid[x + 1:x + length + 1, y] = 1\n",
    "                x += length\n",
    "            elif dir == 'L':\n",
    "                tmp_grid[x - length:x, y] = 1\n",
    "                x -= length\n",
    "            elif dir == 'U':\n",
    "                tmp_grid[x, y + 1:y + length + 1] = 1\n",
    "                y += length\n",
    "            elif dir == 'D':\n",
    "                tmp_grid[x, y - length:y] = 1\n",
    "                y -= length\n",
    "        grid += tmp_grid"
   ]
  },
  {
   "cell_type": "code",
   "execution_count": 96,
   "metadata": {},
   "outputs": [
    {
     "name": "stdout",
     "output_type": "stream",
     "text": [
      ".....................\n",
      ".....................\n",
      ".....................\n",
      "..........1111111....\n",
      "..........1.....1....\n",
      "..........1..111211..\n",
      "..........1..1..1.1..\n",
      "..........1.12111.1..\n",
      "..........1..1....1..\n",
      "..........1.......1..\n",
      "..........O11111111..\n",
      ".....................\n",
      ".....................\n",
      ".....................\n",
      ".....................\n",
      ".....................\n",
      ".....................\n",
      ".....................\n",
      ".....................\n",
      ".....................\n",
      ".....................\n"
     ]
    }
   ],
   "source": [
    "grid = np.zeros(shape=(21, 21))\n",
    "wires = []\n",
    "wires.append(\"R8,U5,L5,D3\")\n",
    "wires.append(\"U7,R6,D4,L4\")\n",
    "\n",
    "follow_wires(wires, grid)\n",
    "show_grid(grid)"
   ]
  },
  {
   "cell_type": "code",
   "execution_count": 97,
   "metadata": {},
   "outputs": [
    {
     "data": {
      "text/plain": [
       "(array([13, 16]), array([13, 15]))"
      ]
     },
     "execution_count": 97,
     "metadata": {},
     "output_type": "execute_result"
    }
   ],
   "source": [
    "np.where(grid == 2)"
   ]
  },
  {
   "cell_type": "code",
   "execution_count": 98,
   "metadata": {},
   "outputs": [],
   "source": [
    "def calc_cross_distance(grid):\n",
    "    grid_size = grid.shape[0]\n",
    "    center = grid_size // 2\n",
    "    distances = []\n",
    "    for x, y in zip(*np.where(grid == 2)):\n",
    "        distances.append(abs(x - center) + abs(y - center))\n",
    "    print(distances)\n",
    "    return min(distances)"
   ]
  },
  {
   "cell_type": "code",
   "execution_count": 99,
   "metadata": {},
   "outputs": [
    {
     "name": "stdout",
     "output_type": "stream",
     "text": [
      "[6, 11]\n"
     ]
    },
    {
     "data": {
      "text/plain": [
       "6"
      ]
     },
     "execution_count": 99,
     "metadata": {},
     "output_type": "execute_result"
    }
   ],
   "source": [
    "calc_cross_distance(grid)"
   ]
  },
  {
   "cell_type": "code",
   "execution_count": 101,
   "metadata": {},
   "outputs": [
    {
     "name": "stdout",
     "output_type": "stream",
     "text": [
      "[192, 159, 166, 170]\n"
     ]
    },
    {
     "data": {
      "text/plain": [
       "159"
      ]
     },
     "execution_count": 101,
     "metadata": {},
     "output_type": "execute_result"
    }
   ],
   "source": [
    "grid = np.zeros(shape=(1001, 1001))\n",
    "wires = []\n",
    "wires.append(\"R75,D30,R83,U83,L12,D49,R71,U7,L72\")\n",
    "wires.append(\"U62,R66,U55,R34,D71,R55,D58,R83\")\n",
    "follow_wires(wires, grid)\n",
    "calc_cross_distance(grid)"
   ]
  },
  {
   "cell_type": "code",
   "execution_count": 102,
   "metadata": {},
   "outputs": [
    {
     "name": "stdout",
     "output_type": "stream",
     "text": [
      "[154, 158, 178, 135, 175]\n"
     ]
    },
    {
     "data": {
      "text/plain": [
       "135"
      ]
     },
     "execution_count": 102,
     "metadata": {},
     "output_type": "execute_result"
    }
   ],
   "source": [
    "grid = np.zeros(shape=(1001, 1001))\n",
    "wires = []\n",
    "wires.append(\"R98,U47,R26,D63,R33,U87,L62,D20,R33,U53,R51\")\n",
    "wires.append(\"U98,R91,D20,R16,D67,R40,U7,R15,U6,R7\")\n",
    "follow_wires(wires, grid)\n",
    "calc_cross_distance(grid)"
   ]
  },
  {
   "cell_type": "markdown",
   "metadata": {},
   "source": [
    "#### Answer"
   ]
  },
  {
   "cell_type": "code",
   "execution_count": 104,
   "metadata": {},
   "outputs": [],
   "source": [
    "with open(\"inputs/day3.txt\") as f:\n",
    "    wires = f.readlines()"
   ]
  },
  {
   "cell_type": "code",
   "execution_count": 110,
   "metadata": {},
   "outputs": [
    {
     "name": "stdout",
     "output_type": "stream",
     "text": [
      "[8560, 8047, 5970, 5916, 5512, 5371, 5357, 5590, 5449, 6190, 8086, 8255, 6413, 7387, 7334, 7144, 8510, 8119, 7089, 6942, 6594, 7164, 7017, 7611, 7528, 7501, 7475, 7688, 7605, 7578, 7552, 7412, 7637, 6913, 8371, 7991, 6942, 9376, 7955, 7872, 7969, 7886, 7554, 9122, 8926, 9717, 9193, 8997, 9934, 9914, 9775, 9226, 9030, 10289, 10138, 10130, 10044, 10024, 10525, 10579, 9660, 8791, 10936, 9738, 9565, 9362, 9327, 9278, 10625, 10381]\n"
     ]
    },
    {
     "data": {
      "text/plain": [
       "5357"
      ]
     },
     "execution_count": 110,
     "metadata": {},
     "output_type": "execute_result"
    }
   ],
   "source": [
    "grid = np.zeros(shape=(20001, 20001))\n",
    "follow_wires(wires, grid)\n",
    "calc_cross_distance(grid)"
   ]
  },
  {
   "cell_type": "markdown",
   "metadata": {},
   "source": [
    "### Part 2"
   ]
  },
  {
   "cell_type": "code",
   "execution_count": 111,
   "metadata": {},
   "outputs": [],
   "source": [
    "grid = np.zeros(shape=(21, 21))\n",
    "wires = []\n",
    "wires.append(\"R8,U5,L5,D3\")\n",
    "wires.append(\"U7,R6,D4,L4\")\n",
    "\n",
    "follow_wires(wires, grid)"
   ]
  },
  {
   "cell_type": "code",
   "execution_count": 137,
   "metadata": {},
   "outputs": [],
   "source": [
    "do_move = {'R': lambda x, y: (x + 1, y),\n",
    "           'L': lambda x, y: (x - 1, y),\n",
    "           'U': lambda x, y: (x, y + 1),\n",
    "           'D': lambda x, y: (x, y - 1),\n",
    "          }\n",
    "\n",
    "def calc_steps_for_wire(wire, grid, intersection):\n",
    "    xi, yi = intersection\n",
    "    center = grid.shape[0] // 2\n",
    "    x, y = center, center\n",
    "    steps = 0\n",
    "    moves = wire.split(',')\n",
    "    for move in moves:\n",
    "        dir, length = move[0], int(move[1:])\n",
    "        for _ in range(length):\n",
    "            steps += 1\n",
    "            x, y = do_move[dir](x, y)\n",
    "            if (x, y) == (xi, yi):\n",
    "                return steps\n",
    "\n",
    "def calc_min_steps(wires, grid):\n",
    "    intersections = list(zip(*np.where(grid == 2)))\n",
    "    all_steps = []\n",
    "    for intersection in intersections:\n",
    "        steps = 0\n",
    "        for wire in wires:\n",
    "            steps += calc_steps_for_wire(wire, grid, intersection)\n",
    "        all_steps.append(steps)\n",
    "    print(min(all_steps))"
   ]
  },
  {
   "cell_type": "code",
   "execution_count": 138,
   "metadata": {},
   "outputs": [
    {
     "name": "stdout",
     "output_type": "stream",
     "text": [
      "410\n"
     ]
    }
   ],
   "source": [
    "calc_min_steps(wires, grid)"
   ]
  },
  {
   "cell_type": "code",
   "execution_count": 139,
   "metadata": {},
   "outputs": [
    {
     "name": "stdout",
     "output_type": "stream",
     "text": [
      "610\n"
     ]
    }
   ],
   "source": [
    "grid = np.zeros(shape=(1001, 1001))\n",
    "wires = []\n",
    "wires.append(\"R75,D30,R83,U83,L12,D49,R71,U7,L72\")\n",
    "wires.append(\"U62,R66,U55,R34,D71,R55,D58,R83\")\n",
    "follow_wires(wires, grid)\n",
    "calc_min_steps(wires, grid)"
   ]
  },
  {
   "cell_type": "code",
   "execution_count": 140,
   "metadata": {},
   "outputs": [
    {
     "name": "stdout",
     "output_type": "stream",
     "text": [
      "410\n"
     ]
    }
   ],
   "source": [
    "grid = np.zeros(shape=(1001, 1001))\n",
    "wires = []\n",
    "wires.append(\"R98,U47,R26,D63,R33,U87,L62,D20,R33,U53,R51\")\n",
    "wires.append(\"U98,R91,D20,R16,D67,R40,U7,R15,U6,R7\")\n",
    "follow_wires(wires, grid)\n",
    "calc_min_steps(wires, grid)"
   ]
  },
  {
   "cell_type": "code",
   "execution_count": 141,
   "metadata": {},
   "outputs": [
    {
     "name": "stdout",
     "output_type": "stream",
     "text": [
      "101956\n"
     ]
    }
   ],
   "source": [
    "with open(\"inputs/day3.txt\") as f:\n",
    "    wires = f.readlines()\n",
    "grid = np.zeros(shape=(20001, 20001))\n",
    "follow_wires(wires, grid)\n",
    "calc_min_steps(wires, grid)"
   ]
  },
  {
   "cell_type": "markdown",
   "metadata": {},
   "source": [
    "## Day 4: Secure Container\n",
    "\n",
    "### Part 1"
   ]
  },
  {
   "cell_type": "code",
   "execution_count": 145,
   "metadata": {},
   "outputs": [],
   "source": [
    "def test_password(pwd):\n",
    "    has_two_identical_digits = False\n",
    "    for i in range(5):\n",
    "        if pwd[i] == pwd[i + 1]:\n",
    "            has_two_identical_digits = True\n",
    "            break\n",
    "    is_increasing = True\n",
    "    for i in range(5):\n",
    "        if pwd[i] > pwd[i + 1]:\n",
    "            is_increasing = False\n",
    "            break\n",
    "    return has_two_identical_digits and is_increasing\n",
    "\n",
    "assert test_password('111111') is True\n",
    "assert test_password('223450') is False\n",
    "assert test_password('123789') is False"
   ]
  },
  {
   "cell_type": "code",
   "execution_count": 148,
   "metadata": {},
   "outputs": [],
   "source": [
    "pwd_min, pwd_max = 278384, 824795"
   ]
  },
  {
   "cell_type": "code",
   "execution_count": 149,
   "metadata": {},
   "outputs": [
    {
     "name": "stdout",
     "output_type": "stream",
     "text": [
      "921\n"
     ]
    }
   ],
   "source": [
    "num_passwords = 0\n",
    "for pwd in range(pwd_min, pwd_max + 1):\n",
    "    if test_password(str(pwd)):\n",
    "        num_passwords += 1\n",
    "print(num_passwords)"
   ]
  },
  {
   "cell_type": "markdown",
   "metadata": {},
   "source": [
    "### Part 2"
   ]
  },
  {
   "cell_type": "code",
   "execution_count": 163,
   "metadata": {},
   "outputs": [],
   "source": [
    "def test_only_two_digits(pwd):\n",
    "    sublengths = []\n",
    "    digit = None\n",
    "    cur_length = 0\n",
    "    for idx in range(len(pwd)):\n",
    "        if pwd[idx] != digit:\n",
    "            sublengths.append(cur_length)\n",
    "            digit = pwd[idx]\n",
    "            cur_length = 1\n",
    "        else:\n",
    "            cur_length += 1\n",
    "    sublengths.append(cur_length)\n",
    "    return 2 in sublengths\n",
    "        \n",
    "assert test_only_two_digits('112233') is True\n",
    "assert test_only_two_digits('123444') is False\n",
    "assert test_only_two_digits('111122') is True"
   ]
  },
  {
   "cell_type": "code",
   "execution_count": 169,
   "metadata": {},
   "outputs": [
    {
     "name": "stdout",
     "output_type": "stream",
     "text": [
      "603\n"
     ]
    }
   ],
   "source": [
    "num_passwords = 0\n",
    "for pwd in range(pwd_min, pwd_max + 1):\n",
    "    if test_password(str(pwd)) and test_only_two_digits(str(pwd)):\n",
    "        num_passwords += 1\n",
    "print(num_passwords)"
   ]
  },
  {
   "cell_type": "markdown",
   "metadata": {},
   "source": [
    "## Day 5: Sunny with a Chance of Asteroids\n",
    "\n",
    "### Part 1 + 2"
   ]
  },
  {
   "cell_type": "code",
   "execution_count": 105,
   "metadata": {},
   "outputs": [],
   "source": [
    "get_value_func = {'0': lambda idx: int(program[int(idx)]),\n",
    "                  '1': lambda value: int(value),\n",
    "                 }\n",
    "\n",
    "def run_program(program, inputs):\n",
    "    ip = 0\n",
    "    while program[ip] != '99':\n",
    "        flags_opcode = '{:05d}'.format(int(program[ip]))\n",
    "        flags, opcode = list(reversed(flags_opcode[:3])), flags_opcode[3:]\n",
    "        \n",
    "        if opcode in ['01', '02']:\n",
    "            params = program[ip + 1:ip + 4]\n",
    "            value1, value2, _ = [get_value_func[f](p) for f, p in zip(flags, params)]\n",
    "            loc = int(params[2])\n",
    "            if opcode == '01':\n",
    "                program[loc] = value1 + value2\n",
    "            elif opcode == '02':\n",
    "                program[loc] = value1 * value2\n",
    "            ip += 4\n",
    "        elif opcode == '03':\n",
    "            param = int(program[ip + 1])\n",
    "            input_value = next(inputs)\n",
    "            program[param] = input_value\n",
    "            ip += 2\n",
    "        elif opcode == '04':\n",
    "            param = program[ip + 1]\n",
    "            value = get_value_func[flags[-1]](param)\n",
    "            print(value)\n",
    "            ip += 2\n",
    "        elif opcode in ['05', '06']:\n",
    "            params = program[ip + 1:ip + 3]\n",
    "            value1, value2 = [get_value_func[f](p) for f, p in zip(flags, params)]\n",
    "            if (opcode == '05' and value1) or (opcode == '06' and not value1):\n",
    "                ip = value2\n",
    "            else:\n",
    "                ip += 3\n",
    "        elif opcode in ['07', '08']:\n",
    "            params = program[ip + 1:ip + 4]\n",
    "            value1, value2, _ = [get_value_func[f](p) for f, p in zip(flags, params)]\n",
    "            loc = int(params[2])\n",
    "            if (opcode == '07' and value1 < value2) or (opcode == '08' and value1 == value2):\n",
    "                program[loc] = 1\n",
    "            else:\n",
    "                program[loc] = 0\n",
    "            ip += 4\n",
    "        else:\n",
    "            raise RuntimeError(f\"Unknown opcode: {opcode}\")"
   ]
  },
  {
   "cell_type": "code",
   "execution_count": 106,
   "metadata": {},
   "outputs": [
    {
     "name": "stdout",
     "output_type": "stream",
     "text": [
      "3\n",
      "0\n",
      "0\n",
      "0\n",
      "0\n",
      "0\n",
      "0\n",
      "0\n",
      "0\n",
      "14155342\n"
     ]
    }
   ],
   "source": [
    "with open('inputs/day5.txt') as f:\n",
    "    program = f.readline().strip().split(',')\n",
    "    run_program(program, (i for i in '1'))"
   ]
  },
  {
   "cell_type": "code",
   "execution_count": 119,
   "metadata": {},
   "outputs": [
    {
     "name": "stdout",
     "output_type": "stream",
     "text": [
      "1\n"
     ]
    }
   ],
   "source": [
    "program = '3,9,8,9,10,9,4,9,99,-1,8'.split(',')\n",
    "run_program(program, (i for i in '8'))"
   ]
  },
  {
   "cell_type": "code",
   "execution_count": 120,
   "metadata": {},
   "outputs": [
    {
     "name": "stdout",
     "output_type": "stream",
     "text": [
      "1\n"
     ]
    }
   ],
   "source": [
    "program = '3,9,7,9,10,9,4,9,99,-1,8'.split(',')\n",
    "run_program(program, (i for i in '7'))"
   ]
  },
  {
   "cell_type": "code",
   "execution_count": 125,
   "metadata": {},
   "outputs": [
    {
     "name": "stdout",
     "output_type": "stream",
     "text": [
      "1\n"
     ]
    }
   ],
   "source": [
    "program = '3,3,1108,-1,8,3,4,3,99'.split(',')\n",
    "run_program(program, (i for i in '8'))"
   ]
  },
  {
   "cell_type": "code",
   "execution_count": 130,
   "metadata": {},
   "outputs": [
    {
     "name": "stdout",
     "output_type": "stream",
     "text": [
      "1\n"
     ]
    }
   ],
   "source": [
    "program = '3,3,1107,-1,8,3,4,3,99'.split(',')\n",
    "run_program(program, (i for i in '4'))"
   ]
  },
  {
   "cell_type": "code",
   "execution_count": 135,
   "metadata": {},
   "outputs": [
    {
     "name": "stdout",
     "output_type": "stream",
     "text": [
      "0\n"
     ]
    }
   ],
   "source": [
    "program = '3,12,6,12,15,1,13,14,13,4,13,99,-1,0,1,9'.split(',')\n",
    "run_program(program, (i for i in '0'))"
   ]
  },
  {
   "cell_type": "code",
   "execution_count": 138,
   "metadata": {},
   "outputs": [
    {
     "name": "stdout",
     "output_type": "stream",
     "text": [
      "1\n"
     ]
    }
   ],
   "source": [
    "program = '3,3,1105,-1,9,1101,0,0,12,4,12,99,1'.split(',')\n",
    "run_program(program, (i for i in '4'))"
   ]
  },
  {
   "cell_type": "code",
   "execution_count": 146,
   "metadata": {},
   "outputs": [
    {
     "ename": "IndexError",
     "evalue": "list index out of range",
     "output_type": "error",
     "traceback": [
      "\u001b[0;31m---------------------------------------------------------------------------\u001b[0m",
      "\u001b[0;31mIndexError\u001b[0m                                Traceback (most recent call last)",
      "\u001b[0;32m<ipython-input-146-b75b03e64451>\u001b[0m in \u001b[0;36m<module>\u001b[0;34m\u001b[0m\n\u001b[1;32m      1\u001b[0m \u001b[0mprogram\u001b[0m \u001b[0;34m=\u001b[0m \u001b[0;34m'3,21,1008,21,8,20,1005,20,22,107,8,21,20,1006,20,31,1106,0,36,98,0,0,1002,21,125,20,4,20,1105,1,46,104,999,1105,1,46,1101,1000,1,20,4,20,1105,1,46,98,99'\u001b[0m\u001b[0;34m.\u001b[0m\u001b[0msplit\u001b[0m\u001b[0;34m(\u001b[0m\u001b[0;34m','\u001b[0m\u001b[0;34m)\u001b[0m\u001b[0;34m\u001b[0m\u001b[0;34m\u001b[0m\u001b[0m\n\u001b[0;32m----> 2\u001b[0;31m \u001b[0mrun_program\u001b[0m\u001b[0;34m(\u001b[0m\u001b[0mprogram\u001b[0m\u001b[0;34m,\u001b[0m \u001b[0;34m(\u001b[0m\u001b[0mi\u001b[0m \u001b[0;32mfor\u001b[0m \u001b[0mi\u001b[0m \u001b[0;32min\u001b[0m \u001b[0;34m[\u001b[0m\u001b[0;36m7\u001b[0m\u001b[0;34m]\u001b[0m\u001b[0;34m)\u001b[0m\u001b[0;34m)\u001b[0m\u001b[0;34m\u001b[0m\u001b[0;34m\u001b[0m\u001b[0m\n\u001b[0m",
      "\u001b[0;32m<ipython-input-105-c48df7c37da3>\u001b[0m in \u001b[0;36mrun_program\u001b[0;34m(program, inputs)\u001b[0m\n\u001b[1;32m     25\u001b[0m         \u001b[0;32melif\u001b[0m \u001b[0mopcode\u001b[0m \u001b[0;34m==\u001b[0m \u001b[0;34m'04'\u001b[0m\u001b[0;34m:\u001b[0m\u001b[0;34m\u001b[0m\u001b[0;34m\u001b[0m\u001b[0m\n\u001b[1;32m     26\u001b[0m             \u001b[0mparam\u001b[0m \u001b[0;34m=\u001b[0m \u001b[0mprogram\u001b[0m\u001b[0;34m[\u001b[0m\u001b[0mip\u001b[0m \u001b[0;34m+\u001b[0m \u001b[0;36m1\u001b[0m\u001b[0;34m]\u001b[0m\u001b[0;34m\u001b[0m\u001b[0;34m\u001b[0m\u001b[0m\n\u001b[0;32m---> 27\u001b[0;31m             \u001b[0mvalue\u001b[0m \u001b[0;34m=\u001b[0m \u001b[0mget_value_func\u001b[0m\u001b[0;34m[\u001b[0m\u001b[0mflags\u001b[0m\u001b[0;34m[\u001b[0m\u001b[0;34m-\u001b[0m\u001b[0;36m1\u001b[0m\u001b[0;34m]\u001b[0m\u001b[0;34m]\u001b[0m\u001b[0;34m(\u001b[0m\u001b[0mparam\u001b[0m\u001b[0;34m)\u001b[0m\u001b[0;34m\u001b[0m\u001b[0;34m\u001b[0m\u001b[0m\n\u001b[0m\u001b[1;32m     28\u001b[0m             \u001b[0mprint\u001b[0m\u001b[0;34m(\u001b[0m\u001b[0mvalue\u001b[0m\u001b[0;34m)\u001b[0m\u001b[0;34m\u001b[0m\u001b[0;34m\u001b[0m\u001b[0m\n\u001b[1;32m     29\u001b[0m             \u001b[0mip\u001b[0m \u001b[0;34m+=\u001b[0m \u001b[0;36m2\u001b[0m\u001b[0;34m\u001b[0m\u001b[0;34m\u001b[0m\u001b[0m\n",
      "\u001b[0;32m<ipython-input-105-c48df7c37da3>\u001b[0m in \u001b[0;36m<lambda>\u001b[0;34m(idx)\u001b[0m\n\u001b[0;32m----> 1\u001b[0;31m get_value_func = {'0': lambda idx: int(program[int(idx)]),\n\u001b[0m\u001b[1;32m      2\u001b[0m                   \u001b[0;34m'1'\u001b[0m\u001b[0;34m:\u001b[0m \u001b[0;32mlambda\u001b[0m \u001b[0mvalue\u001b[0m\u001b[0;34m:\u001b[0m \u001b[0mint\u001b[0m\u001b[0;34m(\u001b[0m\u001b[0mvalue\u001b[0m\u001b[0;34m)\u001b[0m\u001b[0;34m,\u001b[0m\u001b[0;34m\u001b[0m\u001b[0;34m\u001b[0m\u001b[0m\n\u001b[1;32m      3\u001b[0m                  }\n\u001b[1;32m      4\u001b[0m \u001b[0;34m\u001b[0m\u001b[0m\n\u001b[1;32m      5\u001b[0m \u001b[0;32mdef\u001b[0m \u001b[0mrun_program\u001b[0m\u001b[0;34m(\u001b[0m\u001b[0mprogram\u001b[0m\u001b[0;34m,\u001b[0m \u001b[0minputs\u001b[0m\u001b[0;34m)\u001b[0m\u001b[0;34m:\u001b[0m\u001b[0;34m\u001b[0m\u001b[0;34m\u001b[0m\u001b[0m\n",
      "\u001b[0;31mIndexError\u001b[0m: list index out of range"
     ]
    }
   ],
   "source": [
    "program = '3,21,1008,21,8,20,1005,20,22,107,8,21,20,1006,20,31,1106,0,36,98,0,0,1002,21,125,20,4,20,1105,1,46,104,999,1105,1,46,1101,1000,1,20,4,20,1105,1,46,98,99'.split(',')\n",
    "run_program(program, (i for i in [7]))"
   ]
  },
  {
   "cell_type": "code",
   "execution_count": 147,
   "metadata": {},
   "outputs": [
    {
     "name": "stdout",
     "output_type": "stream",
     "text": [
      "8684145\n"
     ]
    }
   ],
   "source": [
    "with open('inputs/day5.txt') as f:\n",
    "    program = f.readline().strip().split(',')\n",
    "    run_program(program, (i for i in '5'))"
   ]
  }
 ],
 "metadata": {
  "kernelspec": {
   "display_name": "Python 3",
   "language": "python",
   "name": "python3"
  },
  "language_info": {
   "codemirror_mode": {
    "name": "ipython",
    "version": 3
   },
   "file_extension": ".py",
   "mimetype": "text/x-python",
   "name": "python",
   "nbconvert_exporter": "python",
   "pygments_lexer": "ipython3",
   "version": "3.7.4"
  }
 },
 "nbformat": 4,
 "nbformat_minor": 4
}
