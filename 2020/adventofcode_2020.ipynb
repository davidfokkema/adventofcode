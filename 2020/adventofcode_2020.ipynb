{
 "metadata": {
  "language_info": {
   "codemirror_mode": {
    "name": "ipython",
    "version": 3
   },
   "file_extension": ".py",
   "mimetype": "text/x-python",
   "name": "python",
   "nbconvert_exporter": "python",
   "pygments_lexer": "ipython3",
   "version": "3.7.7-final"
  },
  "orig_nbformat": 2,
  "kernelspec": {
   "name": "python3",
   "display_name": "Python 3"
  }
 },
 "nbformat": 4,
 "nbformat_minor": 2,
 "cells": [
  {
   "source": [
    "# Advent of code 2020\n",
    "\n",
    "## Day 1\n",
    "\n",
    "### Part 1"
   ],
   "cell_type": "markdown",
   "metadata": {}
  },
  {
   "cell_type": "code",
   "execution_count": 1,
   "metadata": {},
   "outputs": [],
   "source": [
    "import itertools"
   ]
  },
  {
   "cell_type": "code",
   "execution_count": 2,
   "metadata": {},
   "outputs": [
    {
     "output_type": "execute_result",
     "data": {
      "text/plain": [
       "[(1, 2), (1, 3), (1, 4), (2, 3), (2, 4), (3, 4)]"
      ]
     },
     "metadata": {},
     "execution_count": 2
    }
   ],
   "source": [
    "list(itertools.combinations([1, 2, 3, 4], 2))"
   ]
  },
  {
   "cell_type": "code",
   "execution_count": 3,
   "metadata": {},
   "outputs": [
    {
     "output_type": "stream",
     "name": "stdout",
     "text": [
      "514579\n"
     ]
    }
   ],
   "source": [
    "report_test = [1721,\n",
    "979,\n",
    "366,\n",
    "299,\n",
    "675,\n",
    "1456]\n",
    "for a, b in itertools.combinations(report_test, 2):\n",
    "    if a + b == 2020:\n",
    "        print(a * b)"
   ]
  },
  {
   "cell_type": "code",
   "execution_count": 4,
   "metadata": {},
   "outputs": [],
   "source": [
    "with open(\"inputs/day1.txt\") as f:\n",
    "    report = [int(l) for l in f.readlines()]"
   ]
  },
  {
   "cell_type": "code",
   "execution_count": 5,
   "metadata": {},
   "outputs": [
    {
     "output_type": "stream",
     "name": "stdout",
     "text": [
      "1006875\n"
     ]
    }
   ],
   "source": [
    "for a, b in itertools.combinations(report, 2):\n",
    "    if a + b == 2020:\n",
    "        print(a * b)"
   ]
  },
  {
   "source": [
    "### Part 2"
   ],
   "cell_type": "markdown",
   "metadata": {}
  },
  {
   "cell_type": "code",
   "execution_count": 6,
   "metadata": {},
   "outputs": [
    {
     "output_type": "stream",
     "name": "stdout",
     "text": [
      "241861950\n"
     ]
    }
   ],
   "source": [
    "for a, b, c in itertools.combinations(report_test, 3):\n",
    "    if a + b + c == 2020:\n",
    "        print(a * b * c)"
   ]
  },
  {
   "cell_type": "code",
   "execution_count": 7,
   "metadata": {},
   "outputs": [
    {
     "output_type": "stream",
     "name": "stdout",
     "text": [
      "165026160\n"
     ]
    }
   ],
   "source": [
    "for a, b, c in itertools.combinations(report, 3):\n",
    "    if a + b + c == 2020:\n",
    "        print(a * b * c)"
   ]
  },
  {
   "source": [
    "## Day 2\n",
    "\n",
    "### Part 1"
   ],
   "cell_type": "markdown",
   "metadata": {}
  },
  {
   "cell_type": "code",
   "execution_count": 8,
   "metadata": {},
   "outputs": [],
   "source": [
    "test_passwords = [\"1-3 a: abcde\",\n",
    "\"1-3 b: cdefg\",\n",
    "\"2-9 c: ccccccccc\"]"
   ]
  },
  {
   "cell_type": "code",
   "execution_count": 9,
   "metadata": {},
   "outputs": [],
   "source": [
    "import re\n",
    "import collections"
   ]
  },
  {
   "cell_type": "code",
   "execution_count": 10,
   "metadata": {},
   "outputs": [
    {
     "output_type": "stream",
     "name": "stdout",
     "text": [
      "Pass\nFail\nPass\n"
     ]
    }
   ],
   "source": [
    "for line in test_passwords:\n",
    "    min, max, letter, password = re.match(\"(\\d+)-(\\d+) ([a-z]): ([a-z]+)$\", line).groups()\n",
    "    min = int(min); max = int(max)\n",
    "    counts = collections.Counter(password)\n",
    "    if min <= counts[letter] <= max:\n",
    "        print(\"Pass\")\n",
    "    else:\n",
    "        print(\"Fail\")"
   ]
  },
  {
   "cell_type": "code",
   "execution_count": 11,
   "metadata": {},
   "outputs": [],
   "source": [
    "with open(\"inputs/day2.txt\") as f:\n",
    "    passwords = f.readlines()"
   ]
  },
  {
   "cell_type": "code",
   "execution_count": 12,
   "metadata": {},
   "outputs": [],
   "source": [
    "number = 0\n",
    "for line in passwords:\n",
    "    min, max, letter, password = re.match(\"(\\d+)-(\\d+) ([a-z]): ([a-z]+)$\", line).groups()\n",
    "    min = int(min); max = int(max)\n",
    "    counts = collections.Counter(password)\n",
    "    if min <= counts[letter] <= max:\n",
    "        number += 1"
   ]
  },
  {
   "cell_type": "code",
   "execution_count": 13,
   "metadata": {},
   "outputs": [
    {
     "output_type": "execute_result",
     "data": {
      "text/plain": [
       "586"
      ]
     },
     "metadata": {},
     "execution_count": 13
    }
   ],
   "source": [
    "number"
   ]
  },
  {
   "source": [
    "### Part 2"
   ],
   "cell_type": "markdown",
   "metadata": {}
  },
  {
   "cell_type": "code",
   "execution_count": 14,
   "metadata": {},
   "outputs": [
    {
     "output_type": "execute_result",
     "data": {
      "text/plain": [
       "2"
      ]
     },
     "metadata": {},
     "execution_count": 14
    }
   ],
   "source": [
    "True + True"
   ]
  },
  {
   "cell_type": "code",
   "execution_count": 15,
   "metadata": {},
   "outputs": [
    {
     "output_type": "stream",
     "name": "stdout",
     "text": [
      "Pass\nFail\nFail\n"
     ]
    }
   ],
   "source": [
    "for line in test_passwords:\n",
    "    idx1, idx2, letter, password = re.match(\"(\\d+)-(\\d+) ([a-z]): ([a-z]+)$\", line).groups()\n",
    "    idx1 = int(idx1); idx2 = int(idx2)\n",
    "    count = (password[idx1 - 1] == letter) + (password[idx2 - 1] == letter)\n",
    "    if count == 1:\n",
    "        print(\"Pass\")\n",
    "    else:\n",
    "        print(\"Fail\")"
   ]
  },
  {
   "cell_type": "code",
   "execution_count": 16,
   "metadata": {},
   "outputs": [],
   "source": [
    "number = 0\n",
    "for line in passwords:\n",
    "    idx1, idx2, letter, password = re.match(\"(\\d+)-(\\d+) ([a-z]): ([a-z]+)$\", line).groups()\n",
    "    idx1 = int(idx1); idx2 = int(idx2)\n",
    "    count = (password[idx1 - 1] == letter) + (password[idx2 - 1] == letter)\n",
    "    if count == 1:\n",
    "        number += 1"
   ]
  },
  {
   "cell_type": "code",
   "execution_count": 17,
   "metadata": {},
   "outputs": [
    {
     "output_type": "execute_result",
     "data": {
      "text/plain": [
       "352"
      ]
     },
     "metadata": {},
     "execution_count": 17
    }
   ],
   "source": [
    "number"
   ]
  },
  {
   "source": [
    "## Day 3\n",
    "\n",
    "### Part 1"
   ],
   "cell_type": "markdown",
   "metadata": {}
  },
  {
   "cell_type": "code",
   "execution_count": 20,
   "metadata": {},
   "outputs": [],
   "source": [
    "with open('inputs/day3.txt') as f:\n",
    "    trees = [l.strip() for l in f.readlines()]"
   ]
  },
  {
   "cell_type": "code",
   "execution_count": 24,
   "metadata": {},
   "outputs": [],
   "source": [
    "num_trees = 0\n",
    "x, y = 0, 0\n",
    "xdir, ydir = 3, 1"
   ]
  },
  {
   "cell_type": "code",
   "execution_count": 25,
   "metadata": {},
   "outputs": [],
   "source": [
    "while y < len(trees):\n",
    "    if trees[y][x] == '#':\n",
    "        num_trees += 1\n",
    "    x += xdir\n",
    "    x %= len(trees[0])\n",
    "    y += ydir"
   ]
  },
  {
   "cell_type": "code",
   "execution_count": 26,
   "metadata": {},
   "outputs": [
    {
     "output_type": "execute_result",
     "data": {
      "text/plain": [
       "274"
      ]
     },
     "metadata": {},
     "execution_count": 26
    }
   ],
   "source": [
    "num_trees"
   ]
  },
  {
   "source": [
    "### Part 2"
   ],
   "cell_type": "markdown",
   "metadata": {}
  },
  {
   "cell_type": "code",
   "execution_count": 28,
   "metadata": {},
   "outputs": [],
   "source": [
    "def check_trees(trees, xdir, ydir):\n",
    "    num_trees = 0\n",
    "    x, y = 0, 0\n",
    "\n",
    "    while y < len(trees):\n",
    "        if trees[y][x] == '#':\n",
    "            num_trees += 1\n",
    "        x += xdir\n",
    "        x %= len(trees[0])\n",
    "        y += ydir\n",
    "\n",
    "    return num_trees"
   ]
  },
  {
   "cell_type": "code",
   "execution_count": 29,
   "metadata": {},
   "outputs": [
    {
     "output_type": "execute_result",
     "data": {
      "text/plain": [
       "274"
      ]
     },
     "metadata": {},
     "execution_count": 29
    }
   ],
   "source": [
    "check_trees(trees, 3, 1)"
   ]
  },
  {
   "cell_type": "code",
   "execution_count": 30,
   "metadata": {},
   "outputs": [],
   "source": [
    "directions = [(1, 1), (3, 1), (5, 1), (7, 1), (1, 2)]\n",
    "num_trees = [check_trees(trees, *dirs) for dirs in directions]"
   ]
  },
  {
   "cell_type": "code",
   "execution_count": 32,
   "metadata": {},
   "outputs": [],
   "source": [
    "import functools"
   ]
  },
  {
   "cell_type": "code",
   "execution_count": 33,
   "metadata": {},
   "outputs": [
    {
     "output_type": "execute_result",
     "data": {
      "text/plain": [
       "6050183040"
      ]
     },
     "metadata": {},
     "execution_count": 33
    }
   ],
   "source": [
    "functools.reduce(lambda x, y: x * y, num_trees)"
   ]
  },
  {
   "cell_type": "code",
   "execution_count": null,
   "metadata": {},
   "outputs": [],
   "source": []
  }
 ]
}