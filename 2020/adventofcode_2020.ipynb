{
 "metadata": {
  "language_info": {
   "codemirror_mode": {
    "name": "ipython",
    "version": 3
   },
   "file_extension": ".py",
   "mimetype": "text/x-python",
   "name": "python",
   "nbconvert_exporter": "python",
   "pygments_lexer": "ipython3",
   "version": "3.7.7-final"
  },
  "orig_nbformat": 2,
  "kernelspec": {
   "name": "python3",
   "display_name": "Python 3"
  }
 },
 "nbformat": 4,
 "nbformat_minor": 2,
 "cells": [
  {
   "cell_type": "code",
   "execution_count": null,
   "metadata": {},
   "outputs": [],
   "source": [
    "len(raw)"
   ]
  },
  {
   "source": [
    "# Advent of code 2020\n",
    "\n",
    "## Day 1\n",
    "\n",
    "### Part 1"
   ],
   "cell_type": "markdown",
   "metadata": {}
  },
  {
   "cell_type": "code",
   "execution_count": 1,
   "metadata": {},
   "outputs": [],
   "source": [
    "import itertools"
   ]
  },
  {
   "cell_type": "code",
   "execution_count": 2,
   "metadata": {},
   "outputs": [
    {
     "output_type": "execute_result",
     "data": {
      "text/plain": [
       "[(1, 2), (1, 3), (1, 4), (2, 3), (2, 4), (3, 4)]"
      ]
     },
     "metadata": {},
     "execution_count": 2
    }
   ],
   "source": [
    "list(itertools.combinations([1, 2, 3, 4], 2))"
   ]
  },
  {
   "cell_type": "code",
   "execution_count": 3,
   "metadata": {},
   "outputs": [
    {
     "output_type": "stream",
     "name": "stdout",
     "text": [
      "514579\n"
     ]
    }
   ],
   "source": [
    "report_test = [1721,\n",
    "979,\n",
    "366,\n",
    "299,\n",
    "675,\n",
    "1456]\n",
    "for a, b in itertools.combinations(report_test, 2):\n",
    "    if a + b == 2020:\n",
    "        print(a * b)"
   ]
  },
  {
   "cell_type": "code",
   "execution_count": 4,
   "metadata": {},
   "outputs": [],
   "source": [
    "with open(\"inputs/day1.txt\") as f:\n",
    "    report = [int(l) for l in f.readlines()]"
   ]
  },
  {
   "cell_type": "code",
   "execution_count": 5,
   "metadata": {},
   "outputs": [
    {
     "output_type": "stream",
     "name": "stdout",
     "text": [
      "1006875\n"
     ]
    }
   ],
   "source": [
    "for a, b in itertools.combinations(report, 2):\n",
    "    if a + b == 2020:\n",
    "        print(a * b)"
   ]
  },
  {
   "source": [
    "### Part 2"
   ],
   "cell_type": "markdown",
   "metadata": {}
  },
  {
   "cell_type": "code",
   "execution_count": 6,
   "metadata": {},
   "outputs": [
    {
     "output_type": "stream",
     "name": "stdout",
     "text": [
      "241861950\n"
     ]
    }
   ],
   "source": [
    "for a, b, c in itertools.combinations(report_test, 3):\n",
    "    if a + b + c == 2020:\n",
    "        print(a * b * c)"
   ]
  },
  {
   "cell_type": "code",
   "execution_count": 7,
   "metadata": {},
   "outputs": [
    {
     "output_type": "stream",
     "name": "stdout",
     "text": [
      "165026160\n"
     ]
    }
   ],
   "source": [
    "for a, b, c in itertools.combinations(report, 3):\n",
    "    if a + b + c == 2020:\n",
    "        print(a * b * c)"
   ]
  },
  {
   "source": [
    "## Day 2\n",
    "\n",
    "### Part 1"
   ],
   "cell_type": "markdown",
   "metadata": {}
  },
  {
   "cell_type": "code",
   "execution_count": 8,
   "metadata": {},
   "outputs": [],
   "source": [
    "test_passwords = [\"1-3 a: abcde\",\n",
    "\"1-3 b: cdefg\",\n",
    "\"2-9 c: ccccccccc\"]"
   ]
  },
  {
   "cell_type": "code",
   "execution_count": 9,
   "metadata": {},
   "outputs": [],
   "source": [
    "import re\n",
    "import collections"
   ]
  },
  {
   "cell_type": "code",
   "execution_count": 10,
   "metadata": {},
   "outputs": [
    {
     "output_type": "stream",
     "name": "stdout",
     "text": [
      "Pass\nFail\nPass\n"
     ]
    }
   ],
   "source": [
    "for line in test_passwords:\n",
    "    min, max, letter, password = re.match(\"(\\d+)-(\\d+) ([a-z]): ([a-z]+)$\", line).groups()\n",
    "    min = int(min); max = int(max)\n",
    "    counts = collections.Counter(password)\n",
    "    if min <= counts[letter] <= max:\n",
    "        print(\"Pass\")\n",
    "    else:\n",
    "        print(\"Fail\")"
   ]
  },
  {
   "cell_type": "code",
   "execution_count": 11,
   "metadata": {},
   "outputs": [],
   "source": [
    "with open(\"inputs/day2.txt\") as f:\n",
    "    passwords = f.readlines()"
   ]
  },
  {
   "cell_type": "code",
   "execution_count": 12,
   "metadata": {},
   "outputs": [],
   "source": [
    "number = 0\n",
    "for line in passwords:\n",
    "    min, max, letter, password = re.match(\"(\\d+)-(\\d+) ([a-z]): ([a-z]+)$\", line).groups()\n",
    "    min = int(min); max = int(max)\n",
    "    counts = collections.Counter(password)\n",
    "    if min <= counts[letter] <= max:\n",
    "        number += 1"
   ]
  },
  {
   "cell_type": "code",
   "execution_count": 13,
   "metadata": {},
   "outputs": [
    {
     "output_type": "execute_result",
     "data": {
      "text/plain": [
       "586"
      ]
     },
     "metadata": {},
     "execution_count": 13
    }
   ],
   "source": [
    "number"
   ]
  },
  {
   "source": [
    "### Part 2"
   ],
   "cell_type": "markdown",
   "metadata": {}
  },
  {
   "cell_type": "code",
   "execution_count": 14,
   "metadata": {},
   "outputs": [
    {
     "output_type": "execute_result",
     "data": {
      "text/plain": [
       "2"
      ]
     },
     "metadata": {},
     "execution_count": 14
    }
   ],
   "source": [
    "True + True"
   ]
  },
  {
   "cell_type": "code",
   "execution_count": 15,
   "metadata": {},
   "outputs": [
    {
     "output_type": "stream",
     "name": "stdout",
     "text": [
      "Pass\nFail\nFail\n"
     ]
    }
   ],
   "source": [
    "for line in test_passwords:\n",
    "    idx1, idx2, letter, password = re.match(\"(\\d+)-(\\d+) ([a-z]): ([a-z]+)$\", line).groups()\n",
    "    idx1 = int(idx1); idx2 = int(idx2)\n",
    "    count = (password[idx1 - 1] == letter) + (password[idx2 - 1] == letter)\n",
    "    if count == 1:\n",
    "        print(\"Pass\")\n",
    "    else:\n",
    "        print(\"Fail\")"
   ]
  },
  {
   "cell_type": "code",
   "execution_count": 16,
   "metadata": {},
   "outputs": [],
   "source": [
    "number = 0\n",
    "for line in passwords:\n",
    "    idx1, idx2, letter, password = re.match(\"(\\d+)-(\\d+) ([a-z]): ([a-z]+)$\", line).groups()\n",
    "    idx1 = int(idx1); idx2 = int(idx2)\n",
    "    count = (password[idx1 - 1] == letter) + (password[idx2 - 1] == letter)\n",
    "    if count == 1:\n",
    "        number += 1"
   ]
  },
  {
   "cell_type": "code",
   "execution_count": 17,
   "metadata": {},
   "outputs": [
    {
     "output_type": "execute_result",
     "data": {
      "text/plain": [
       "352"
      ]
     },
     "metadata": {},
     "execution_count": 17
    }
   ],
   "source": [
    "number"
   ]
  },
  {
   "source": [
    "## Day 3\n",
    "\n",
    "### Part 1"
   ],
   "cell_type": "markdown",
   "metadata": {}
  },
  {
   "cell_type": "code",
   "execution_count": 20,
   "metadata": {},
   "outputs": [],
   "source": [
    "with open('inputs/day3.txt') as f:\n",
    "    trees = [l.strip() for l in f.readlines()]"
   ]
  },
  {
   "cell_type": "code",
   "execution_count": 24,
   "metadata": {},
   "outputs": [],
   "source": [
    "num_trees = 0\n",
    "x, y = 0, 0\n",
    "xdir, ydir = 3, 1"
   ]
  },
  {
   "cell_type": "code",
   "execution_count": 25,
   "metadata": {},
   "outputs": [],
   "source": [
    "while y < len(trees):\n",
    "    if trees[y][x] == '#':\n",
    "        num_trees += 1\n",
    "    x += xdir\n",
    "    x %= len(trees[0])\n",
    "    y += ydir"
   ]
  },
  {
   "cell_type": "code",
   "execution_count": 26,
   "metadata": {},
   "outputs": [
    {
     "output_type": "execute_result",
     "data": {
      "text/plain": [
       "274"
      ]
     },
     "metadata": {},
     "execution_count": 26
    }
   ],
   "source": [
    "num_trees"
   ]
  },
  {
   "source": [
    "### Part 2"
   ],
   "cell_type": "markdown",
   "metadata": {}
  },
  {
   "cell_type": "code",
   "execution_count": 28,
   "metadata": {},
   "outputs": [],
   "source": [
    "def check_trees(trees, xdir, ydir):\n",
    "    num_trees = 0\n",
    "    x, y = 0, 0\n",
    "\n",
    "    while y < len(trees):\n",
    "        if trees[y][x] == '#':\n",
    "            num_trees += 1\n",
    "        x += xdir\n",
    "        x %= len(trees[0])\n",
    "        y += ydir\n",
    "\n",
    "    return num_trees"
   ]
  },
  {
   "cell_type": "code",
   "execution_count": 29,
   "metadata": {},
   "outputs": [
    {
     "output_type": "execute_result",
     "data": {
      "text/plain": [
       "274"
      ]
     },
     "metadata": {},
     "execution_count": 29
    }
   ],
   "source": [
    "check_trees(trees, 3, 1)"
   ]
  },
  {
   "cell_type": "code",
   "execution_count": 30,
   "metadata": {},
   "outputs": [],
   "source": [
    "directions = [(1, 1), (3, 1), (5, 1), (7, 1), (1, 2)]\n",
    "num_trees = [check_trees(trees, *dirs) for dirs in directions]"
   ]
  },
  {
   "cell_type": "code",
   "execution_count": 32,
   "metadata": {},
   "outputs": [],
   "source": [
    "import functools"
   ]
  },
  {
   "cell_type": "code",
   "execution_count": 33,
   "metadata": {},
   "outputs": [
    {
     "output_type": "execute_result",
     "data": {
      "text/plain": [
       "6050183040"
      ]
     },
     "metadata": {},
     "execution_count": 33
    }
   ],
   "source": [
    "functools.reduce(lambda x, y: x * y, num_trees)"
   ]
  },
  {
   "source": [
    "## Day 4\n",
    "\n",
    "### Part 1"
   ],
   "cell_type": "markdown",
   "metadata": {}
  },
  {
   "cell_type": "code",
   "execution_count": 93,
   "metadata": {},
   "outputs": [],
   "source": [
    "test_passports = \"\"\"\\\n",
    "ecl:gry pid:860033327 eyr:2020 hcl:#fffffd\n",
    "byr:1937 iyr:2017 cid:147 hgt:183cm\n",
    "\n",
    "iyr:2013 ecl:amb cid:350 eyr:2023 pid:028048884\n",
    "hcl:#cfa07d byr:1929\n",
    "\n",
    "hcl:#ae17e1 iyr:2013\n",
    "eyr:2024\n",
    "ecl:brn pid:760753108 byr:1931\n",
    "hgt:179cm\n",
    "\n",
    "hcl:#cfa07d eyr:2025 pid:166559648\n",
    "iyr:2011 ecl:brn hgt:59in\n",
    "\"\"\".split('\\n')"
   ]
  },
  {
   "cell_type": "code",
   "execution_count": 40,
   "metadata": {},
   "outputs": [],
   "source": [
    "required_fields = {'byr', 'iyr', 'eyr', 'hgt', 'hcl', 'ecl', 'pid'}"
   ]
  },
  {
   "cell_type": "code",
   "execution_count": 67,
   "metadata": {},
   "outputs": [],
   "source": [
    "def count_valid_passports(passports, required_fields):\n",
    "    # make sure to check final passport\n",
    "    passports = passports + ['']\n",
    "\n",
    "    fields = set()\n",
    "    num_valid = 0\n",
    "    for line in passports:\n",
    "        if not line:\n",
    "            if not required_fields - fields:\n",
    "                num_valid += 1\n",
    "            fields = set()\n",
    "            continue\n",
    "        pairs = line.split(' ')\n",
    "        keys = {u.split(':')[0] for u in pairs}\n",
    "        fields |= keys\n",
    "    return num_valid"
   ]
  },
  {
   "cell_type": "code",
   "execution_count": 55,
   "metadata": {},
   "outputs": [
    {
     "output_type": "execute_result",
     "data": {
      "text/plain": [
       "2"
      ]
     },
     "metadata": {},
     "execution_count": 55
    }
   ],
   "source": [
    "count_valid_passports(test_passports, required_fields)"
   ]
  },
  {
   "cell_type": "code",
   "execution_count": 71,
   "metadata": {},
   "outputs": [],
   "source": [
    "with open('inputs/day4.txt') as f:\n",
    "    raw_passports = [u.strip() for u in f.readlines()]"
   ]
  },
  {
   "cell_type": "code",
   "execution_count": 76,
   "metadata": {},
   "outputs": [
    {
     "output_type": "execute_result",
     "data": {
      "text/plain": [
       "226"
      ]
     },
     "metadata": {},
     "execution_count": 76
    }
   ],
   "source": [
    "count_valid_passports(raw_passports, required_fields)"
   ]
  },
  {
   "source": [
    "### Part 2"
   ],
   "cell_type": "markdown",
   "metadata": {}
  },
  {
   "cell_type": "code",
   "execution_count": 96,
   "metadata": {},
   "outputs": [],
   "source": [
    "def parse_passports(raw_passports):\n",
    "    raw_passports = raw_passports + ['']\n",
    "    passports = []\n",
    "    passport = {}\n",
    "    for line in raw_passports:\n",
    "        if not line:\n",
    "            if passport:\n",
    "                passports.append(passport)\n",
    "                passport = {}\n",
    "        else:\n",
    "            for pair in line.split(' '):\n",
    "                key, value = pair.split(':')\n",
    "                passport.update({key: value})\n",
    "    return passports"
   ]
  },
  {
   "cell_type": "code",
   "execution_count": 97,
   "metadata": {},
   "outputs": [
    {
     "output_type": "execute_result",
     "data": {
      "text/plain": [
       "[{'ecl': 'gry',\n",
       "  'pid': '860033327',\n",
       "  'eyr': '2020',\n",
       "  'hcl': '#fffffd',\n",
       "  'byr': '1937',\n",
       "  'iyr': '2017',\n",
       "  'cid': '147',\n",
       "  'hgt': '183cm'},\n",
       " {'iyr': '2013',\n",
       "  'ecl': 'amb',\n",
       "  'cid': '350',\n",
       "  'eyr': '2023',\n",
       "  'pid': '028048884',\n",
       "  'hcl': '#cfa07d',\n",
       "  'byr': '1929'},\n",
       " {'hcl': '#ae17e1',\n",
       "  'iyr': '2013',\n",
       "  'eyr': '2024',\n",
       "  'ecl': 'brn',\n",
       "  'pid': '760753108',\n",
       "  'byr': '1931',\n",
       "  'hgt': '179cm'},\n",
       " {'hcl': '#cfa07d',\n",
       "  'eyr': '2025',\n",
       "  'pid': '166559648',\n",
       "  'iyr': '2011',\n",
       "  'ecl': 'brn',\n",
       "  'hgt': '59in'}]"
      ]
     },
     "metadata": {},
     "execution_count": 97
    }
   ],
   "source": [
    "parse_passports(test_passports)"
   ]
  },
  {
   "cell_type": "code",
   "execution_count": 104,
   "metadata": {},
   "outputs": [
    {
     "output_type": "execute_result",
     "data": {
      "text/plain": [
       "{'ecl': 'gry', 'pid': '860033327', 'eyr': '2020', 'hcl': '#fffffd'}"
      ]
     },
     "metadata": {},
     "execution_count": 104
    }
   ],
   "source": [
    "l = test_passports[0]\n",
    "import re\n",
    "{u: v for u, v in re.findall(\"([a-z]+):([a-z0-9#]+)\", l)}"
   ]
  },
  {
   "cell_type": "code",
   "execution_count": 103,
   "metadata": {},
   "outputs": [
    {
     "output_type": "execute_result",
     "data": {
      "text/plain": [
       "'ecl:gry pid:860033327 eyr:2020 hcl:#fffffd'"
      ]
     },
     "metadata": {},
     "execution_count": 103
    }
   ],
   "source": [
    "l"
   ]
  },
  {
   "cell_type": "code",
   "execution_count": 105,
   "metadata": {},
   "outputs": [
    {
     "output_type": "execute_result",
     "data": {
      "text/plain": [
       "['ecl:gry pid:860033327 eyr:2020 hcl:#fffffd',\n",
       " 'byr:1937 iyr:2017 cid:147 hgt:183cm',\n",
       " '',\n",
       " 'iyr:2013 ecl:amb cid:350 eyr:2023 pid:028048884',\n",
       " 'hcl:#cfa07d byr:1929',\n",
       " '',\n",
       " 'hcl:#ae17e1 iyr:2013',\n",
       " 'eyr:2024',\n",
       " 'ecl:brn pid:760753108 byr:1931',\n",
       " 'hgt:179cm',\n",
       " '',\n",
       " 'hcl:#cfa07d eyr:2025 pid:166559648',\n",
       " 'iyr:2011 ecl:brn hgt:59in',\n",
       " '']"
      ]
     },
     "metadata": {},
     "execution_count": 105
    }
   ],
   "source": [
    "test_passports"
   ]
  },
  {
   "cell_type": "code",
   "execution_count": 114,
   "metadata": {},
   "outputs": [
    {
     "output_type": "execute_result",
     "data": {
      "text/plain": [
       "['ecl:grn cid:315 iyr:2012 hgt:192cm eyr:2023 pid:873355140 byr:1925 hcl:#cb2c03',\n",
       " 'byr:2027 hcl:ec0cfd ecl:blu cid:120 eyr:1937 pid:106018766 iyr:2010 hgt:154cm',\n",
       " 'byr:1965 eyr:2028 hgt:157cm cid:236 iyr:2018 ecl:brn hcl:#cfa07d pid:584111467',\n",
       " 'eyr:2029 ecl:hzl iyr:1972 byr:1966 pid:2898897192 hgt:59cm hcl:z',\n",
       " 'pid:231652013 hcl:#602927 hgt:166 ecl:grn eyr:2025 byr:2008 iyr:1986',\n",
       " 'byr:1928 hgt:167cm hcl:#18171d iyr:2012 ecl:oth pid:237657808 eyr:1944',\n",
       " 'hgt:73in ecl:grn byr:1931 pid:358388825 iyr:2020 hcl:#602927 eyr:2020',\n",
       " 'hcl:#efcc98 eyr:2024 ecl:hzl byr:2030 hgt:192cm iyr:2013 pid:7479289410',\n",
       " 'pid:053467220 iyr:2012 hgt:169cm cid:149 hcl:#866857 eyr:2030 byr:1995 ecl:oth',\n",
       " 'hgt:162cm hcl:#efcc98 ecl:grn byr:1985 pid:419840766 eyr:2022 iyr:2020']"
      ]
     },
     "metadata": {},
     "execution_count": 114
    }
   ],
   "source": [
    "' '.join(raw_passports).split('  ')[:10]"
   ]
  },
  {
   "cell_type": "code",
   "execution_count": 115,
   "metadata": {},
   "outputs": [],
   "source": [
    "def parse_passports(raw_passports):\n",
    "    # concatenate lines with one space between\n",
    "    concatenated = ' '.join(raw_passports)\n",
    "    # empty lines between passports are now two spaces\n",
    "    split_passports = concatenated.split('  ')\n",
    "    # find all key:value pairs and built a list of dictionaries\n",
    "    return [{u: v for u, v in re.findall(\"([a-z]+):([a-z0-9#]+)\", p)} for p in split_passports]"
   ]
  },
  {
   "cell_type": "code",
   "execution_count": 143,
   "metadata": {},
   "outputs": [],
   "source": [
    "passports = parse_passports(test_passports)"
   ]
  },
  {
   "cell_type": "code",
   "execution_count": 144,
   "metadata": {},
   "outputs": [
    {
     "output_type": "execute_result",
     "data": {
      "text/plain": [
       "[{'ecl': 'gry',\n",
       "  'pid': '860033327',\n",
       "  'eyr': '2020',\n",
       "  'hcl': '#fffffd',\n",
       "  'byr': '1937',\n",
       "  'iyr': '2017',\n",
       "  'cid': '147',\n",
       "  'hgt': '183cm'},\n",
       " {'iyr': '2013',\n",
       "  'ecl': 'amb',\n",
       "  'cid': '350',\n",
       "  'eyr': '2023',\n",
       "  'pid': '028048884',\n",
       "  'hcl': '#cfa07d',\n",
       "  'byr': '1929'},\n",
       " {'hcl': '#ae17e1',\n",
       "  'iyr': '2013',\n",
       "  'eyr': '2024',\n",
       "  'ecl': 'brn',\n",
       "  'pid': '760753108',\n",
       "  'byr': '1931',\n",
       "  'hgt': '179cm'},\n",
       " {'hcl': '#cfa07d',\n",
       "  'eyr': '2025',\n",
       "  'pid': '166559648',\n",
       "  'iyr': '2011',\n",
       "  'ecl': 'brn',\n",
       "  'hgt': '59in'}]"
      ]
     },
     "metadata": {},
     "execution_count": 144
    }
   ],
   "source": [
    "passports"
   ]
  },
  {
   "cell_type": "code",
   "execution_count": 145,
   "metadata": {},
   "outputs": [],
   "source": [
    "def count_valid_passports(passports, required_fields):\n",
    "    count = 0\n",
    "    for passport in passports:\n",
    "        fields = set(passport.keys())\n",
    "        if required_fields - fields:\n",
    "            continue\n",
    "        for field in fields:\n",
    "            value = passport[field]\n",
    "            if field == 'byr':\n",
    "                if not 1920 <= int(value) <= 2002:\n",
    "                    continue\n",
    "            elif field == 'iyr':\n",
    "                if not 2010 <= int(value) <= 2020:\n",
    "                    continue\n",
    "            elif field == 'eyr':\n",
    "                if not 2020 <= int(value) <= 2030:\n",
    "                    continue\n",
    "            elif field == 'hgt':\n",
    "                match = re.match(\"([0-9]+)(cm|in)\", value)\n",
    "                if not match:\n",
    "                    continue\n",
    "                else:\n",
    "                    length, unit = match.groups()\n",
    "                    if unit == 'cm':\n",
    "                        if not 150 <= int(length) <= 193:\n",
    "                            continue\n",
    "                    elif unit == 'in':\n",
    "                        if not 59 <= int(length) <= 76:\n",
    "                            continue\n",
    "                    else:\n",
    "                        continue\n",
    "            elif field == 'hcl':\n",
    "                if not re.match(\"#[0-9a-f]{6}\", value):\n",
    "                    continue\n",
    "            elif field == 'ecl':\n",
    "                if not value in ['amb', 'blu', 'brn', 'gry', 'grn', 'hzl', 'oth']:\n",
    "                    continue\n",
    "            elif field == 'pid':\n",
    "                if not re.match(\"[0-9]{9}\", value):\n",
    "                    continue\n",
    "        count += 1\n",
    "    return count\n",
    "                "
   ]
  },
  {
   "cell_type": "code",
   "execution_count": null,
   "metadata": {},
   "outputs": [],
   "source": []
  },
  {
   "cell_type": "code",
   "execution_count": 146,
   "metadata": {},
   "outputs": [
    {
     "output_type": "execute_result",
     "data": {
      "text/plain": [
       "226"
      ]
     },
     "metadata": {},
     "execution_count": 146
    }
   ],
   "source": [
    "passports = parse_passports(raw_passports)\n",
    "count_valid_passports(passports, required_fields)"
   ]
  },
  {
   "cell_type": "code",
   "execution_count": null,
   "metadata": {},
   "outputs": [],
   "source": []
  }
 ]
}