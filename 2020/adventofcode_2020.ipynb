{
 "metadata": {
  "language_info": {
   "codemirror_mode": {
    "name": "ipython",
    "version": 3
   },
   "file_extension": ".py",
   "mimetype": "text/x-python",
   "name": "python",
   "nbconvert_exporter": "python",
   "pygments_lexer": "ipython3",
   "version": "3.7.7-final"
  },
  "orig_nbformat": 2,
  "kernelspec": {
   "name": "python3",
   "display_name": "Python 3"
  }
 },
 "nbformat": 4,
 "nbformat_minor": 2,
 "cells": [
  {
   "source": [
    "# Advent of code 2020\n",
    "\n",
    "## Day 1\n",
    "\n",
    "### Part 1"
   ],
   "cell_type": "markdown",
   "metadata": {}
  },
  {
   "cell_type": "code",
   "execution_count": 3,
   "metadata": {},
   "outputs": [],
   "source": [
    "import itertools"
   ]
  },
  {
   "cell_type": "code",
   "execution_count": 4,
   "metadata": {},
   "outputs": [
    {
     "output_type": "execute_result",
     "data": {
      "text/plain": [
       "[(1, 2), (1, 3), (1, 4), (2, 3), (2, 4), (3, 4)]"
      ]
     },
     "metadata": {},
     "execution_count": 4
    }
   ],
   "source": [
    "list(itertools.combinations([1, 2, 3, 4], 2))"
   ]
  },
  {
   "cell_type": "code",
   "execution_count": 5,
   "metadata": {},
   "outputs": [
    {
     "output_type": "stream",
     "name": "stdout",
     "text": [
      "514579\n"
     ]
    }
   ],
   "source": [
    "report_test = [1721,\n",
    "979,\n",
    "366,\n",
    "299,\n",
    "675,\n",
    "1456]\n",
    "for a, b in itertools.combinations(report_test, 2):\n",
    "    if a + b == 2020:\n",
    "        print(a * b)"
   ]
  },
  {
   "cell_type": "code",
   "execution_count": 6,
   "metadata": {},
   "outputs": [],
   "source": [
    "with open(\"inputs/day1.txt\") as f:\n",
    "    report = [int(l) for l in f.readlines()]"
   ]
  },
  {
   "cell_type": "code",
   "execution_count": 7,
   "metadata": {},
   "outputs": [
    {
     "output_type": "stream",
     "name": "stdout",
     "text": [
      "1006875\n"
     ]
    }
   ],
   "source": [
    "for a, b in itertools.combinations(report, 2):\n",
    "    if a + b == 2020:\n",
    "        print(a * b)"
   ]
  },
  {
   "source": [
    "### Part 2"
   ],
   "cell_type": "markdown",
   "metadata": {}
  },
  {
   "cell_type": "code",
   "execution_count": 8,
   "metadata": {},
   "outputs": [
    {
     "output_type": "stream",
     "name": "stdout",
     "text": [
      "241861950\n"
     ]
    }
   ],
   "source": [
    "for a, b, c in itertools.combinations(report_test, 3):\n",
    "    if a + b + c == 2020:\n",
    "        print(a * b * c)"
   ]
  },
  {
   "cell_type": "code",
   "execution_count": 9,
   "metadata": {},
   "outputs": [
    {
     "output_type": "stream",
     "name": "stdout",
     "text": [
      "165026160\n"
     ]
    }
   ],
   "source": [
    "for a, b, c in itertools.combinations(report, 3):\n",
    "    if a + b + c == 2020:\n",
    "        print(a * b * c)"
   ]
  },
  {
   "source": [
    "## Day 2\n",
    "\n",
    "### Part 1"
   ],
   "cell_type": "markdown",
   "metadata": {}
  },
  {
   "cell_type": "code",
   "execution_count": 10,
   "metadata": {},
   "outputs": [],
   "source": [
    "test_passwords = [\"1-3 a: abcde\",\n",
    "\"1-3 b: cdefg\",\n",
    "\"2-9 c: ccccccccc\"]"
   ]
  },
  {
   "cell_type": "code",
   "execution_count": 11,
   "metadata": {},
   "outputs": [],
   "source": [
    "import re\n",
    "import collections"
   ]
  },
  {
   "cell_type": "code",
   "execution_count": 12,
   "metadata": {},
   "outputs": [
    {
     "output_type": "stream",
     "name": "stdout",
     "text": [
      "Pass\nFail\nPass\n"
     ]
    }
   ],
   "source": [
    "for line in test_passwords:\n",
    "    min, max, letter, password = re.match(\"(\\d+)-(\\d+) ([a-z]): ([a-z]+)$\", line).groups()\n",
    "    min = int(min); max = int(max)\n",
    "    counts = collections.Counter(password)\n",
    "    if min <= counts[letter] <= max:\n",
    "        print(\"Pass\")\n",
    "    else:\n",
    "        print(\"Fail\")"
   ]
  },
  {
   "cell_type": "code",
   "execution_count": 13,
   "metadata": {},
   "outputs": [],
   "source": [
    "with open(\"inputs/day2.txt\") as f:\n",
    "    passwords = f.readlines()"
   ]
  },
  {
   "cell_type": "code",
   "execution_count": 14,
   "metadata": {},
   "outputs": [],
   "source": [
    "number = 0\n",
    "for line in passwords:\n",
    "    min, max, letter, password = re.match(\"(\\d+)-(\\d+) ([a-z]): ([a-z]+)$\", line).groups()\n",
    "    min = int(min); max = int(max)\n",
    "    counts = collections.Counter(password)\n",
    "    if min <= counts[letter] <= max:\n",
    "        number += 1"
   ]
  },
  {
   "cell_type": "code",
   "execution_count": 15,
   "metadata": {},
   "outputs": [
    {
     "output_type": "execute_result",
     "data": {
      "text/plain": [
       "586"
      ]
     },
     "metadata": {},
     "execution_count": 15
    }
   ],
   "source": [
    "number"
   ]
  },
  {
   "source": [
    "### Part 2"
   ],
   "cell_type": "markdown",
   "metadata": {}
  },
  {
   "cell_type": "code",
   "execution_count": 16,
   "metadata": {},
   "outputs": [
    {
     "output_type": "execute_result",
     "data": {
      "text/plain": [
       "2"
      ]
     },
     "metadata": {},
     "execution_count": 16
    }
   ],
   "source": [
    "True + True"
   ]
  },
  {
   "cell_type": "code",
   "execution_count": 17,
   "metadata": {},
   "outputs": [
    {
     "output_type": "stream",
     "name": "stdout",
     "text": [
      "Pass\nFail\nFail\n"
     ]
    }
   ],
   "source": [
    "for line in test_passwords:\n",
    "    idx1, idx2, letter, password = re.match(\"(\\d+)-(\\d+) ([a-z]): ([a-z]+)$\", line).groups()\n",
    "    idx1 = int(idx1); idx2 = int(idx2)\n",
    "    count = (password[idx1 - 1] == letter) + (password[idx2 - 1] == letter)\n",
    "    if count == 1:\n",
    "        print(\"Pass\")\n",
    "    else:\n",
    "        print(\"Fail\")"
   ]
  },
  {
   "cell_type": "code",
   "execution_count": 18,
   "metadata": {},
   "outputs": [],
   "source": [
    "number = 0\n",
    "for line in passwords:\n",
    "    idx1, idx2, letter, password = re.match(\"(\\d+)-(\\d+) ([a-z]): ([a-z]+)$\", line).groups()\n",
    "    idx1 = int(idx1); idx2 = int(idx2)\n",
    "    count = (password[idx1 - 1] == letter) + (password[idx2 - 1] == letter)\n",
    "    if count == 1:\n",
    "        number += 1"
   ]
  },
  {
   "cell_type": "code",
   "execution_count": 19,
   "metadata": {},
   "outputs": [
    {
     "output_type": "execute_result",
     "data": {
      "text/plain": [
       "352"
      ]
     },
     "metadata": {},
     "execution_count": 19
    }
   ],
   "source": [
    "number"
   ]
  },
  {
   "source": [
    "## Day 3\n",
    "\n",
    "### Part 1"
   ],
   "cell_type": "markdown",
   "metadata": {}
  },
  {
   "cell_type": "code",
   "execution_count": 20,
   "metadata": {},
   "outputs": [],
   "source": [
    "with open('inputs/day3.txt') as f:\n",
    "    trees = [l.strip() for l in f.readlines()]"
   ]
  },
  {
   "cell_type": "code",
   "execution_count": 21,
   "metadata": {},
   "outputs": [],
   "source": [
    "num_trees = 0\n",
    "x, y = 0, 0\n",
    "xdir, ydir = 3, 1"
   ]
  },
  {
   "cell_type": "code",
   "execution_count": 22,
   "metadata": {},
   "outputs": [],
   "source": [
    "while y < len(trees):\n",
    "    if trees[y][x] == '#':\n",
    "        num_trees += 1\n",
    "    x += xdir\n",
    "    x %= len(trees[0])\n",
    "    y += ydir"
   ]
  },
  {
   "cell_type": "code",
   "execution_count": 23,
   "metadata": {},
   "outputs": [
    {
     "output_type": "execute_result",
     "data": {
      "text/plain": [
       "274"
      ]
     },
     "metadata": {},
     "execution_count": 23
    }
   ],
   "source": [
    "num_trees"
   ]
  },
  {
   "source": [
    "### Part 2"
   ],
   "cell_type": "markdown",
   "metadata": {}
  },
  {
   "cell_type": "code",
   "execution_count": 24,
   "metadata": {},
   "outputs": [],
   "source": [
    "def check_trees(trees, xdir, ydir):\n",
    "    num_trees = 0\n",
    "    x, y = 0, 0\n",
    "\n",
    "    while y < len(trees):\n",
    "        if trees[y][x] == '#':\n",
    "            num_trees += 1\n",
    "        x += xdir\n",
    "        x %= len(trees[0])\n",
    "        y += ydir\n",
    "\n",
    "    return num_trees"
   ]
  },
  {
   "cell_type": "code",
   "execution_count": 25,
   "metadata": {},
   "outputs": [
    {
     "output_type": "execute_result",
     "data": {
      "text/plain": [
       "274"
      ]
     },
     "metadata": {},
     "execution_count": 25
    }
   ],
   "source": [
    "check_trees(trees, 3, 1)"
   ]
  },
  {
   "cell_type": "code",
   "execution_count": 26,
   "metadata": {},
   "outputs": [],
   "source": [
    "directions = [(1, 1), (3, 1), (5, 1), (7, 1), (1, 2)]\n",
    "num_trees = [check_trees(trees, *dirs) for dirs in directions]"
   ]
  },
  {
   "cell_type": "code",
   "execution_count": 27,
   "metadata": {},
   "outputs": [],
   "source": [
    "import functools"
   ]
  },
  {
   "cell_type": "code",
   "execution_count": 28,
   "metadata": {},
   "outputs": [
    {
     "output_type": "execute_result",
     "data": {
      "text/plain": [
       "6050183040"
      ]
     },
     "metadata": {},
     "execution_count": 28
    }
   ],
   "source": [
    "functools.reduce(lambda x, y: x * y, num_trees)"
   ]
  },
  {
   "source": [
    "## Day 4\n",
    "\n",
    "### Part 1"
   ],
   "cell_type": "markdown",
   "metadata": {}
  },
  {
   "cell_type": "code",
   "execution_count": 29,
   "metadata": {},
   "outputs": [],
   "source": [
    "test_passports = \"\"\"\\\n",
    "ecl:gry pid:860033327 eyr:2020 hcl:#fffffd\n",
    "byr:1937 iyr:2017 cid:147 hgt:183cm\n",
    "\n",
    "iyr:2013 ecl:amb cid:350 eyr:2023 pid:028048884\n",
    "hcl:#cfa07d byr:1929\n",
    "\n",
    "hcl:#ae17e1 iyr:2013\n",
    "eyr:2024\n",
    "ecl:brn pid:760753108 byr:1931\n",
    "hgt:179cm\n",
    "\n",
    "hcl:#cfa07d eyr:2025 pid:166559648\n",
    "iyr:2011 ecl:brn hgt:59in\n",
    "\"\"\".split('\\n')"
   ]
  },
  {
   "cell_type": "code",
   "execution_count": 30,
   "metadata": {},
   "outputs": [],
   "source": [
    "required_fields = {'byr', 'iyr', 'eyr', 'hgt', 'hcl', 'ecl', 'pid'}"
   ]
  },
  {
   "cell_type": "code",
   "execution_count": 31,
   "metadata": {},
   "outputs": [],
   "source": [
    "def count_valid_passports(passports, required_fields):\n",
    "    # make sure to check final passport\n",
    "    passports = passports + ['']\n",
    "\n",
    "    fields = set()\n",
    "    num_valid = 0\n",
    "    for line in passports:\n",
    "        if not line:\n",
    "            if not required_fields - fields:\n",
    "                num_valid += 1\n",
    "            fields = set()\n",
    "            continue\n",
    "        pairs = line.split(' ')\n",
    "        keys = {u.split(':')[0] for u in pairs}\n",
    "        fields |= keys\n",
    "    return num_valid"
   ]
  },
  {
   "cell_type": "code",
   "execution_count": 32,
   "metadata": {},
   "outputs": [
    {
     "output_type": "execute_result",
     "data": {
      "text/plain": [
       "2"
      ]
     },
     "metadata": {},
     "execution_count": 32
    }
   ],
   "source": [
    "count_valid_passports(test_passports, required_fields)"
   ]
  },
  {
   "cell_type": "code",
   "execution_count": 33,
   "metadata": {},
   "outputs": [],
   "source": [
    "with open('inputs/day4.txt') as f:\n",
    "    raw_passports = [u.strip() for u in f.readlines()]"
   ]
  },
  {
   "cell_type": "code",
   "execution_count": 34,
   "metadata": {},
   "outputs": [
    {
     "output_type": "execute_result",
     "data": {
      "text/plain": [
       "226"
      ]
     },
     "metadata": {},
     "execution_count": 34
    }
   ],
   "source": [
    "count_valid_passports(raw_passports, required_fields)"
   ]
  },
  {
   "source": [
    "### Part 2"
   ],
   "cell_type": "markdown",
   "metadata": {}
  },
  {
   "cell_type": "code",
   "execution_count": 35,
   "metadata": {},
   "outputs": [],
   "source": [
    "def parse_passports(raw_passports):\n",
    "    raw_passports = raw_passports + ['']\n",
    "    passports = []\n",
    "    passport = {}\n",
    "    for line in raw_passports:\n",
    "        if not line:\n",
    "            if passport:\n",
    "                passports.append(passport)\n",
    "                passport = {}\n",
    "        else:\n",
    "            for pair in line.split(' '):\n",
    "                key, value = pair.split(':')\n",
    "                passport.update({key: value})\n",
    "    return passports"
   ]
  },
  {
   "cell_type": "code",
   "execution_count": 36,
   "metadata": {},
   "outputs": [
    {
     "output_type": "execute_result",
     "data": {
      "text/plain": [
       "[{'ecl': 'gry',\n",
       "  'pid': '860033327',\n",
       "  'eyr': '2020',\n",
       "  'hcl': '#fffffd',\n",
       "  'byr': '1937',\n",
       "  'iyr': '2017',\n",
       "  'cid': '147',\n",
       "  'hgt': '183cm'},\n",
       " {'iyr': '2013',\n",
       "  'ecl': 'amb',\n",
       "  'cid': '350',\n",
       "  'eyr': '2023',\n",
       "  'pid': '028048884',\n",
       "  'hcl': '#cfa07d',\n",
       "  'byr': '1929'},\n",
       " {'hcl': '#ae17e1',\n",
       "  'iyr': '2013',\n",
       "  'eyr': '2024',\n",
       "  'ecl': 'brn',\n",
       "  'pid': '760753108',\n",
       "  'byr': '1931',\n",
       "  'hgt': '179cm'},\n",
       " {'hcl': '#cfa07d',\n",
       "  'eyr': '2025',\n",
       "  'pid': '166559648',\n",
       "  'iyr': '2011',\n",
       "  'ecl': 'brn',\n",
       "  'hgt': '59in'}]"
      ]
     },
     "metadata": {},
     "execution_count": 36
    }
   ],
   "source": [
    "parse_passports(test_passports)"
   ]
  },
  {
   "cell_type": "code",
   "execution_count": 37,
   "metadata": {},
   "outputs": [
    {
     "output_type": "execute_result",
     "data": {
      "text/plain": [
       "{'ecl': 'gry', 'pid': '860033327', 'eyr': '2020', 'hcl': '#fffffd'}"
      ]
     },
     "metadata": {},
     "execution_count": 37
    }
   ],
   "source": [
    "l = test_passports[0]\n",
    "import re\n",
    "{u: v for u, v in re.findall(\"([a-z]+):([a-z0-9#]+)\", l)}"
   ]
  },
  {
   "cell_type": "code",
   "execution_count": 38,
   "metadata": {},
   "outputs": [
    {
     "output_type": "execute_result",
     "data": {
      "text/plain": [
       "'ecl:gry pid:860033327 eyr:2020 hcl:#fffffd'"
      ]
     },
     "metadata": {},
     "execution_count": 38
    }
   ],
   "source": [
    "l"
   ]
  },
  {
   "cell_type": "code",
   "execution_count": 39,
   "metadata": {},
   "outputs": [
    {
     "output_type": "execute_result",
     "data": {
      "text/plain": [
       "['ecl:gry pid:860033327 eyr:2020 hcl:#fffffd',\n",
       " 'byr:1937 iyr:2017 cid:147 hgt:183cm',\n",
       " '',\n",
       " 'iyr:2013 ecl:amb cid:350 eyr:2023 pid:028048884',\n",
       " 'hcl:#cfa07d byr:1929',\n",
       " '',\n",
       " 'hcl:#ae17e1 iyr:2013',\n",
       " 'eyr:2024',\n",
       " 'ecl:brn pid:760753108 byr:1931',\n",
       " 'hgt:179cm',\n",
       " '',\n",
       " 'hcl:#cfa07d eyr:2025 pid:166559648',\n",
       " 'iyr:2011 ecl:brn hgt:59in',\n",
       " '']"
      ]
     },
     "metadata": {},
     "execution_count": 39
    }
   ],
   "source": [
    "test_passports"
   ]
  },
  {
   "cell_type": "code",
   "execution_count": 40,
   "metadata": {},
   "outputs": [
    {
     "output_type": "execute_result",
     "data": {
      "text/plain": [
       "['ecl:grn cid:315 iyr:2012 hgt:192cm eyr:2023 pid:873355140 byr:1925 hcl:#cb2c03',\n",
       " 'byr:2027 hcl:ec0cfd ecl:blu cid:120 eyr:1937 pid:106018766 iyr:2010 hgt:154cm',\n",
       " 'byr:1965 eyr:2028 hgt:157cm cid:236 iyr:2018 ecl:brn hcl:#cfa07d pid:584111467',\n",
       " 'eyr:2029 ecl:hzl iyr:1972 byr:1966 pid:2898897192 hgt:59cm hcl:z',\n",
       " 'pid:231652013 hcl:#602927 hgt:166 ecl:grn eyr:2025 byr:2008 iyr:1986',\n",
       " 'byr:1928 hgt:167cm hcl:#18171d iyr:2012 ecl:oth pid:237657808 eyr:1944',\n",
       " 'hgt:73in ecl:grn byr:1931 pid:358388825 iyr:2020 hcl:#602927 eyr:2020',\n",
       " 'hcl:#efcc98 eyr:2024 ecl:hzl byr:2030 hgt:192cm iyr:2013 pid:7479289410',\n",
       " 'pid:053467220 iyr:2012 hgt:169cm cid:149 hcl:#866857 eyr:2030 byr:1995 ecl:oth',\n",
       " 'hgt:162cm hcl:#efcc98 ecl:grn byr:1985 pid:419840766 eyr:2022 iyr:2020']"
      ]
     },
     "metadata": {},
     "execution_count": 40
    }
   ],
   "source": [
    "' '.join(raw_passports).split('  ')[:10]"
   ]
  },
  {
   "cell_type": "code",
   "execution_count": 41,
   "metadata": {},
   "outputs": [],
   "source": [
    "def parse_passports(raw_passports):\n",
    "    # concatenate lines with one space between\n",
    "    concatenated = ' '.join(raw_passports)\n",
    "    # empty lines between passports are now two spaces\n",
    "    split_passports = concatenated.split('  ')\n",
    "    # find all key:value pairs and built a list of dictionaries\n",
    "    return [{u: v for u, v in re.findall(\"([a-z]+):([a-z0-9#]+)\", p)} for p in split_passports]"
   ]
  },
  {
   "cell_type": "code",
   "execution_count": 42,
   "metadata": {},
   "outputs": [],
   "source": [
    "passports = parse_passports(test_passports)"
   ]
  },
  {
   "cell_type": "code",
   "execution_count": 43,
   "metadata": {},
   "outputs": [
    {
     "output_type": "execute_result",
     "data": {
      "text/plain": [
       "[{'ecl': 'gry',\n",
       "  'pid': '860033327',\n",
       "  'eyr': '2020',\n",
       "  'hcl': '#fffffd',\n",
       "  'byr': '1937',\n",
       "  'iyr': '2017',\n",
       "  'cid': '147',\n",
       "  'hgt': '183cm'},\n",
       " {'iyr': '2013',\n",
       "  'ecl': 'amb',\n",
       "  'cid': '350',\n",
       "  'eyr': '2023',\n",
       "  'pid': '028048884',\n",
       "  'hcl': '#cfa07d',\n",
       "  'byr': '1929'},\n",
       " {'hcl': '#ae17e1',\n",
       "  'iyr': '2013',\n",
       "  'eyr': '2024',\n",
       "  'ecl': 'brn',\n",
       "  'pid': '760753108',\n",
       "  'byr': '1931',\n",
       "  'hgt': '179cm'},\n",
       " {'hcl': '#cfa07d',\n",
       "  'eyr': '2025',\n",
       "  'pid': '166559648',\n",
       "  'iyr': '2011',\n",
       "  'ecl': 'brn',\n",
       "  'hgt': '59in'}]"
      ]
     },
     "metadata": {},
     "execution_count": 43
    }
   ],
   "source": [
    "passports"
   ]
  },
  {
   "cell_type": "code",
   "execution_count": 44,
   "metadata": {},
   "outputs": [],
   "source": [
    "def count_valid_passports(passports, required_fields):\n",
    "    count = 0\n",
    "    for passport in passports:\n",
    "        fields = set(passport.keys())\n",
    "        if required_fields - fields:\n",
    "            continue\n",
    "        for field in fields:\n",
    "            value = passport[field]\n",
    "            if not is_valid_field(field, value):\n",
    "                # print(\"Invalid\", field, value)\n",
    "                break\n",
    "            else:\n",
    "                # print(\"Valid\", field, value)\n",
    "                pass\n",
    "        else:\n",
    "            count += 1\n",
    "    return count\n",
    "\n",
    "def is_valid_field(field, value):                \n",
    "    if field == 'byr':\n",
    "        return 1920 <= int(value) <= 2002\n",
    "    elif field == 'iyr':\n",
    "        return 2010 <= int(value) <= 2020\n",
    "    elif field == 'eyr':\n",
    "        return 2020 <= int(value) <= 2030\n",
    "    elif field == 'hgt':\n",
    "        match = re.match(\"([0-9]+)(cm|in)\", value)\n",
    "        if match:\n",
    "            length, unit = match.groups()\n",
    "            if unit == 'cm':\n",
    "                return 150 <= int(length) <= 193\n",
    "            elif unit == 'in':\n",
    "                return 59 <= int(length) <= 76\n",
    "    elif field == 'hcl':\n",
    "        return re.match(\"#[0-9a-f]{6}\", value) is not None\n",
    "    elif field == 'ecl':\n",
    "        return value in ['amb', 'blu', 'brn', 'gry', 'grn', 'hzl', 'oth']\n",
    "    elif field == 'pid':\n",
    "        return re.match(\"[0-9]{9}$\", value) is not None\n",
    "    elif field == 'cid':\n",
    "        #ignore\n",
    "        return True\n",
    "    \n",
    "    return False"
   ]
  },
  {
   "cell_type": "code",
   "execution_count": 45,
   "metadata": {},
   "outputs": [
    {
     "output_type": "stream",
     "name": "stdout",
     "text": [
      "True\nFalse\n"
     ]
    }
   ],
   "source": [
    "print(is_valid_field(\"byr\", \"2002\"))\n",
    "print(is_valid_field(\"byr\", \"2003\"))"
   ]
  },
  {
   "cell_type": "code",
   "execution_count": 46,
   "metadata": {},
   "outputs": [
    {
     "output_type": "stream",
     "name": "stdout",
     "text": [
      "True\nTrue\nFalse\nFalse\n"
     ]
    }
   ],
   "source": [
    "print(is_valid_field(\"hgt\", \"60in\"))\n",
    "print(is_valid_field(\"hgt\", \"190cm\"))\n",
    "print(is_valid_field(\"hgt\", \"190in\"))\n",
    "print(is_valid_field(\"hgt\", \"190\"))"
   ]
  },
  {
   "cell_type": "code",
   "execution_count": 47,
   "metadata": {},
   "outputs": [
    {
     "output_type": "stream",
     "name": "stdout",
     "text": [
      "True\nFalse\nFalse\n"
     ]
    }
   ],
   "source": [
    "print(is_valid_field(\"hcl\", \"#123abc\"))\n",
    "print(is_valid_field(\"hcl\", \"#123abz\"))\n",
    "print(is_valid_field(\"hcl\", \"123abc\"))"
   ]
  },
  {
   "cell_type": "code",
   "execution_count": 48,
   "metadata": {},
   "outputs": [
    {
     "output_type": "stream",
     "name": "stdout",
     "text": [
      "True\nFalse\n"
     ]
    }
   ],
   "source": [
    "print(is_valid_field(\"ecl\", \"brn\"))\n",
    "print(is_valid_field(\"ecl\", \"wat\"))"
   ]
  },
  {
   "cell_type": "code",
   "execution_count": 49,
   "metadata": {},
   "outputs": [
    {
     "output_type": "stream",
     "name": "stdout",
     "text": [
      "True\nFalse\n"
     ]
    }
   ],
   "source": [
    "print(is_valid_field(\"pid\", \"000000001\"))\n",
    "print(is_valid_field(\"pid\", \"0123456789\"))"
   ]
  },
  {
   "cell_type": "code",
   "execution_count": 50,
   "metadata": {},
   "outputs": [
    {
     "output_type": "execute_result",
     "data": {
      "text/plain": [
       "0"
      ]
     },
     "metadata": {},
     "execution_count": 50
    }
   ],
   "source": [
    "count_valid_passports(parse_passports(\"\"\"\n",
    "eyr:1972 cid:100\n",
    "hcl:#18171d ecl:amb hgt:170 pid:186cm iyr:2018 byr:1926\n",
    "\n",
    "iyr:2019\n",
    "hcl:#602927 eyr:1967 hgt:170cm\n",
    "ecl:grn pid:012533040 byr:1946\n",
    "\n",
    "hcl:dab227 iyr:2012\n",
    "ecl:brn hgt:182cm pid:021572410 eyr:2020 byr:1992 cid:277\n",
    "\n",
    "hgt:59cm ecl:zzz\n",
    "eyr:2038 hcl:74454a iyr:2023\n",
    "pid:3556412378 byr:2007\n",
    "\"\"\".split('\\n')), required_fields)"
   ]
  },
  {
   "cell_type": "code",
   "execution_count": 51,
   "metadata": {},
   "outputs": [
    {
     "output_type": "execute_result",
     "data": {
      "text/plain": [
       "4"
      ]
     },
     "metadata": {},
     "execution_count": 51
    }
   ],
   "source": [
    "count_valid_passports(parse_passports(\"\"\"\n",
    "pid:087499704 hgt:74in ecl:grn iyr:2012 eyr:2030 byr:1980\n",
    "hcl:#623a2f\n",
    "\n",
    "eyr:2029 ecl:blu cid:129 byr:1989\n",
    "iyr:2014 pid:896056539 hcl:#a97842 hgt:165cm\n",
    "\n",
    "hcl:#888785\n",
    "hgt:164cm byr:2001 iyr:2015 cid:88\n",
    "pid:545766238 ecl:hzl\n",
    "eyr:2022\n",
    "\n",
    "iyr:2010 hgt:158cm hcl:#b6652a ecl:blu byr:1944 eyr:2021 pid:093154719\n",
    "\"\"\".split('\\n')), required_fields)"
   ]
  },
  {
   "cell_type": "code",
   "execution_count": 53,
   "metadata": {},
   "outputs": [
    {
     "output_type": "execute_result",
     "data": {
      "text/plain": [
       "282"
      ]
     },
     "metadata": {},
     "execution_count": 53
    }
   ],
   "source": [
    "passports = parse_passports(raw_passports)\n",
    "len(passports)"
   ]
  },
  {
   "cell_type": "code",
   "execution_count": 54,
   "metadata": {},
   "outputs": [
    {
     "output_type": "execute_result",
     "data": {
      "text/plain": [
       "160"
      ]
     },
     "metadata": {},
     "execution_count": 54
    }
   ],
   "source": [
    "count_valid_passports(passports, required_fields)"
   ]
  },
  {
   "cell_type": "code",
   "execution_count": null,
   "metadata": {},
   "outputs": [],
   "source": []
  }
 ]
}