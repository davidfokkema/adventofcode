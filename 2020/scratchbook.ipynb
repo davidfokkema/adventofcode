{
 "metadata": {
  "language_info": {
   "codemirror_mode": {
    "name": "ipython",
    "version": 3
   },
   "file_extension": ".py",
   "mimetype": "text/x-python",
   "name": "python",
   "nbconvert_exporter": "python",
   "pygments_lexer": "ipython3",
   "version": "3.7.7-final"
  },
  "orig_nbformat": 2,
  "kernelspec": {
   "name": "python3",
   "display_name": "Python 3",
   "language": "python"
  }
 },
 "nbformat": 4,
 "nbformat_minor": 2,
 "cells": [
  {
   "source": [
    "# Scratchbook"
   ],
   "cell_type": "markdown",
   "metadata": {}
  },
  {
   "source": [
    "## Day 7"
   ],
   "cell_type": "markdown",
   "metadata": {}
  },
  {
   "cell_type": "code",
   "execution_count": 21,
   "metadata": {},
   "outputs": [],
   "source": [
    "rules = \"\"\"\\\n",
    "light red bags contain 1 bright white bag, 2 muted yellow bags.\n",
    "dark orange bags contain 3 bright white bags, 4 muted yellow bags.\n",
    "bright white bags contain 1 shiny gold bag.\n",
    "muted yellow bags contain 2 shiny gold bags, 9 faded blue bags.\n",
    "shiny gold bags contain 1 dark olive bag, 2 vibrant plum bags.\n",
    "dark olive bags contain 3 faded blue bags, 4 dotted black bags.\n",
    "vibrant plum bags contain 5 faded blue bags, 6 dotted black bags.\n",
    "faded blue bags contain no other bags.\n",
    "dotted black bags contain no other bags.\n",
    "\"\"\""
   ]
  },
  {
   "cell_type": "code",
   "execution_count": 22,
   "metadata": {},
   "outputs": [],
   "source": [
    "rules = rules.splitlines()"
   ]
  },
  {
   "cell_type": "code",
   "execution_count": 23,
   "metadata": {},
   "outputs": [
    {
     "output_type": "execute_result",
     "data": {
      "text/plain": [
       "'light red bags contain 1 bright white bag, 2 muted yellow bags.'"
      ]
     },
     "metadata": {},
     "execution_count": 23
    }
   ],
   "source": [
    "rules[0]"
   ]
  },
  {
   "cell_type": "code",
   "execution_count": 24,
   "metadata": {},
   "outputs": [],
   "source": [
    "import re"
   ]
  },
  {
   "cell_type": "code",
   "execution_count": 25,
   "metadata": {},
   "outputs": [
    {
     "output_type": "execute_result",
     "data": {
      "text/plain": [
       "('light red', '1 bright white bag, 2 muted yellow bags.')"
      ]
     },
     "metadata": {},
     "execution_count": 25
    }
   ],
   "source": [
    "bag, contents = re.match('([a-z ]+) bags contain (.*)', rules[0]).groups()\n",
    "bag, contents"
   ]
  },
  {
   "cell_type": "code",
   "execution_count": 26,
   "metadata": {},
   "outputs": [
    {
     "output_type": "execute_result",
     "data": {
      "text/plain": [
       "[('1', 'bright white'), ('2', 'muted yellow')]"
      ]
     },
     "metadata": {},
     "execution_count": 26
    }
   ],
   "source": [
    "re.findall('([0-9]+) ([a-z ]+) bag', contents)"
   ]
  },
  {
   "cell_type": "code",
   "execution_count": 38,
   "metadata": {},
   "outputs": [],
   "source": [
    "bag_pattern = re.compile('([a-z ]+) bags contain (.*)')\n",
    "contents_pattern = re.compile('([0-9]+) ([a-z ]+) bag')\n",
    "\n",
    "def parse_rules(rules):\n",
    "    content_rules = {}\n",
    "    for rule in rules:\n",
    "        bag, contents = re.match(bag_pattern, rule).groups()\n",
    "        content_bags = [b for c, b in re.findall(contents_pattern, contents)]\n",
    "        content_rules[bag] = content_bags\n",
    "    return content_rules"
   ]
  },
  {
   "cell_type": "code",
   "execution_count": 39,
   "metadata": {},
   "outputs": [],
   "source": [
    "content_rules = parse_rules(rules)"
   ]
  },
  {
   "cell_type": "code",
   "execution_count": 40,
   "metadata": {},
   "outputs": [
    {
     "output_type": "execute_result",
     "data": {
      "text/plain": [
       "{'light red': ['bright white', 'muted yellow'],\n",
       " 'dark orange': ['bright white', 'muted yellow'],\n",
       " 'bright white': ['shiny gold'],\n",
       " 'muted yellow': ['shiny gold', 'faded blue'],\n",
       " 'shiny gold': ['dark olive', 'vibrant plum'],\n",
       " 'dark olive': ['faded blue', 'dotted black'],\n",
       " 'vibrant plum': ['faded blue', 'dotted black'],\n",
       " 'faded blue': [],\n",
       " 'dotted black': []}"
      ]
     },
     "metadata": {},
     "execution_count": 40
    }
   ],
   "source": [
    "content_rules"
   ]
  },
  {
   "cell_type": "code",
   "execution_count": 16,
   "metadata": {},
   "outputs": [],
   "source": [
    "def count_possible_bags(color, rules):\n",
    "    count = 0\n",
    "    def check_bag(color, rules):\n",
    "        \n",
    "    return count"
   ]
  },
  {
   "cell_type": "code",
   "execution_count": 14,
   "metadata": {},
   "outputs": [
    {
     "output_type": "execute_result",
     "data": {
      "text/plain": [
       "65"
      ]
     },
     "metadata": {},
     "execution_count": 14
    }
   ],
   "source": [
    "count_possible_bags('red')"
   ]
  },
  {
   "cell_type": "code",
   "execution_count": 35,
   "metadata": {},
   "outputs": [
    {
     "output_type": "execute_result",
     "data": {
      "text/plain": [
       "('light red', '1 bright white bag, 2 muted yellow bags.')"
      ]
     },
     "metadata": {},
     "execution_count": 35
    }
   ],
   "source": [
    "re.match(bag_pattern, 'light red bags contain 1 bright white bag, 2 muted yellow bags.').groups()"
   ]
  },
  {
   "cell_type": "code",
   "execution_count": null,
   "metadata": {},
   "outputs": [],
   "source": []
  }
 ]
}